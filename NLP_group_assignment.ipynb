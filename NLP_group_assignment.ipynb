{
 "cells": [
  {
   "cell_type": "markdown",
   "id": "q5EY684N_K62",
   "metadata": {
    "id": "q5EY684N_K62"
   },
   "source": [
    "# Setup"
   ]
  },
  {
   "cell_type": "markdown",
   "id": "Ee-ifzBXuip_",
   "metadata": {
    "id": "Ee-ifzBXuip_"
   },
   "source": [
    "## Library import"
   ]
  },
  {
   "cell_type": "code",
   "execution_count": 1,
   "id": "89509d2b-335c-4bda-a502-423d87efd421",
   "metadata": {
    "id": "89509d2b-335c-4bda-a502-423d87efd421"
   },
   "outputs": [],
   "source": [
    "import pandas as pd\n",
    "import numpy as np\n",
    "import xml.etree.ElementTree as et\n",
    "import os\n",
    "import re\n",
    "import torch\n",
    "from transformers import BertTokenizer, BertModel, BertForMaskedLM\n",
    "from ktrain import text\n",
    "import ktrain\n",
    "from transformers import AutoTokenizer, AutoModelForMaskedLM\n",
    "  \n",
    "from sklearn.model_selection import train_test_split\n",
    "from tensorflow import keras"
   ]
  },
  {
   "cell_type": "code",
   "execution_count": 27,
   "id": "d4c3a321-af61-45c0-a8e7-e8528fa036d1",
   "metadata": {
    "id": "xLT27vpDILkR"
   },
   "outputs": [],
   "source": [
    "from ekphrasis.classes.preprocessor import TextPreProcessor\n",
    "from ekphrasis.classes.tokenizer import SocialTokenizer\n",
    "from ekphrasis.dicts.emoticons import emoticons"
   ]
  },
  {
   "cell_type": "code",
   "execution_count": 28,
   "id": "25ed8631-bfab-4c1d-9fde-1da7d0278570",
   "metadata": {
    "id": "UnPcc1NjNaCk"
   },
   "outputs": [],
   "source": [
    "import emoji"
   ]
  },
  {
   "cell_type": "markdown",
   "id": "aab96503-9a14-4d22-a006-f8b798bfa415",
   "metadata": {},
   "source": [
    "## Setup variables"
   ]
  },
  {
   "cell_type": "code",
   "execution_count": 2,
   "id": "ab64930f-bddf-44a8-a0a2-2516e79c525a",
   "metadata": {
    "id": "vEncAAPEvSQK"
   },
   "outputs": [],
   "source": [
    "data_dir = \"data\""
   ]
  },
  {
   "cell_type": "code",
   "execution_count": 3,
   "id": "6d837cb9-6623-47e0-b678-04b7c0cedac0",
   "metadata": {
    "id": "VQMLMNU4vMXp"
   },
   "outputs": [],
   "source": [
    "training_data_dir = os.path.join(data_dir, \"training\")"
   ]
  },
  {
   "cell_type": "code",
   "execution_count": 24,
   "id": "eb8733ae-0bcc-49c0-8644-c62ac43c4c93",
   "metadata": {},
   "outputs": [],
   "source": [
    "hashtag_analyzed = \"#debateTelemadrid\""
   ]
  },
  {
   "cell_type": "markdown",
   "id": "HiKLDOUm_N-3",
   "metadata": {
    "id": "HiKLDOUm_N-3"
   },
   "source": [
    "# Data import and processing"
   ]
  },
  {
   "cell_type": "markdown",
   "id": "3KvAeq600C86",
   "metadata": {
    "id": "3KvAeq600C86"
   },
   "source": [
    "## Training data extraction and concatenation"
   ]
  },
  {
   "cell_type": "code",
   "execution_count": 4,
   "id": "835ec7c5-9097-41c3-a283-95af37640e16",
   "metadata": {
    "id": "835ec7c5-9097-41c3-a283-95af37640e16"
   },
   "outputs": [],
   "source": [
    "rows = []"
   ]
  },
  {
   "cell_type": "markdown",
   "id": "bscpBRFht_B5",
   "metadata": {
    "id": "bscpBRFht_B5"
   },
   "source": [
    "Our datasets with tweets labeled with sentiment come in XML format. We extract the tweet text and polarity for every year's dataset."
   ]
  },
  {
   "cell_type": "code",
   "execution_count": 6,
   "id": "a2e050d5-6582-46a9-853e-d3648bb9819e",
   "metadata": {
    "id": "a2e050d5-6582-46a9-853e-d3648bb9819e"
   },
   "outputs": [],
   "source": [
    "tass_2012_train_root = et.parse(os.path.join(training_data_dir, \"2012_train-tagged.xml\")).getroot()\n",
    "for node in tass_2012_train_root:\n",
    "    tweet = node.find(\"content\").text\n",
    "    sentiment = node.find(\"sentiments\").find(\"polarity\").find(\"value\").text\n",
    "    if sentiment == \"N\":\n",
    "        sentiment = \"NEG\"\n",
    "    elif sentiment == \"P\":\n",
    "        sentiment = \"POS\"\n",
    "    else:\n",
    "        sentiment = \"NEU\"\n",
    "    row = {\"text\":tweet, \"sentiment\": sentiment}\n",
    "    rows.append(row)\n",
    "    "
   ]
  },
  {
   "cell_type": "code",
   "execution_count": 7,
   "id": "133ecd6d-0f39-42c7-86e2-75462e0e4dca",
   "metadata": {
    "id": "133ecd6d-0f39-42c7-86e2-75462e0e4dca"
   },
   "outputs": [],
   "source": [
    "tass_2012_test_root = et.parse(os.path.join(training_data_dir, \"2012_test-tagged.xml\")).getroot()\n",
    "for node in tass_2012_test_root:\n",
    "    tweet = node.find(\"content\").text\n",
    "    sentiment = node.find(\"sentiments\").find(\"polarity\").find(\"value\").text\n",
    "    if sentiment == \"N\":\n",
    "        sentiment = \"NEG\"\n",
    "    elif sentiment == \"P\":\n",
    "        sentiment = \"POS\"\n",
    "    else:\n",
    "        sentiment = \"NEU\"\n",
    "    row = {\"text\":tweet, \"sentiment\": sentiment}\n",
    "    rows.append(row)"
   ]
  },
  {
   "cell_type": "code",
   "execution_count": 8,
   "id": "5735cb00-469e-4792-b74c-7fcb8ff20720",
   "metadata": {
    "id": "5735cb00-469e-4792-b74c-7fcb8ff20720"
   },
   "outputs": [],
   "source": [
    "tass_2013_test_root = et.parse(os.path.join(training_data_dir, \"2013_politics-test-tagged.xml\")).getroot()\n",
    "for node in tass_2013_test_root:\n",
    "    tweet = node.find(\"content\").text\n",
    "    sentiment = node.find(\"sentiments\").find(\"polarity\").find(\"value\").text\n",
    "\n",
    "    if sentiment == \"N\":\n",
    "        sentiment = \"NEG\"\n",
    "    elif sentiment == \"P\":\n",
    "        sentiment = \"POS\"\n",
    "    else:\n",
    "        sentiment = \"NEU\"\n",
    "    row = {\"text\":tweet, \"sentiment\": sentiment}\n",
    "    rows.append(row)"
   ]
  },
  {
   "cell_type": "code",
   "execution_count": 9,
   "id": "1cc44390-6391-4aaa-a77f-81dea6e96dbb",
   "metadata": {
    "id": "1cc44390-6391-4aaa-a77f-81dea6e96dbb"
   },
   "outputs": [],
   "source": [
    "tass_2018_train_root = et.parse(os.path.join(training_data_dir, \"2018_train-tagged.xml\")).getroot()\n",
    "for node in tass_2018_train_root:\n",
    "    tweet = node.find(\"content\").text\n",
    "    sentiment = node.find(\"sentiment\").find(\"polarity\").find(\"value\").text\n",
    "\n",
    "    if sentiment == \"N\":\n",
    "        sentiment = \"NEG\"\n",
    "    elif sentiment == \"P\":\n",
    "        sentiment = \"POS\"\n",
    "    else:\n",
    "        sentiment = \"NEU\"\n",
    "    row = {\"text\":tweet, \"sentiment\": sentiment}\n",
    "    rows.append(row)"
   ]
  },
  {
   "cell_type": "code",
   "execution_count": 10,
   "id": "1a86905f-6991-4f93-bc49-40f3e30dc297",
   "metadata": {
    "id": "1a86905f-6991-4f93-bc49-40f3e30dc297"
   },
   "outputs": [],
   "source": [
    "tass_2018_test_root = et.parse(os.path.join(training_data_dir, \"2018_test-tagged.xml\")).getroot()\n",
    "for node in tass_2018_test_root:\n",
    "    tweet = node.find(\"content\").text\n",
    "    sentiment = node.find(\"sentiment\").find(\"polarity\").find(\"value\").text\n",
    "\n",
    "    if sentiment == \"N\":\n",
    "        sentiment = \"NEG\"\n",
    "    elif sentiment == \"P\":\n",
    "        sentiment = \"POS\"\n",
    "    else:\n",
    "        sentiment = \"NEU\"\n",
    "    row = {\"text\":tweet, \"sentiment\": sentiment}\n",
    "    rows.append(row)"
   ]
  },
  {
   "cell_type": "code",
   "execution_count": 11,
   "id": "7f6c1c86-b6a6-425e-8216-be4bd7612c1a",
   "metadata": {
    "id": "7f6c1c86-b6a6-425e-8216-be4bd7612c1a"
   },
   "outputs": [],
   "source": [
    "tass_2019_train_root = et.parse(os.path.join(training_data_dir, \"2019_train-tagged.xml\")).getroot()\n",
    "for node in tass_2019_train_root:\n",
    "    tweet = node.find(\"content\").text\n",
    "    sentiment = node.find(\"sentiment\").find(\"polarity\").find(\"value\").text\n",
    "    if sentiment == \"N\":\n",
    "        sentiment = \"NEG\"\n",
    "    elif sentiment == \"P\":\n",
    "        sentiment = \"POS\"\n",
    "    else:\n",
    "        sentiment = \"NEU\"\n",
    "    row = {\"text\":tweet, \"sentiment\": sentiment}\n",
    "    rows.append(row)\n",
    "    "
   ]
  },
  {
   "cell_type": "code",
   "execution_count": 12,
   "id": "997df06a-032a-4c5e-852e-47348649741c",
   "metadata": {
    "id": "997df06a-032a-4c5e-852e-47348649741c"
   },
   "outputs": [],
   "source": [
    "tass_2019_test_root = et.parse(os.path.join(training_data_dir, \"2019_test-tagged.xml\")).getroot()\n",
    "for node in tass_2019_test_root:\n",
    "    tweet = node.find(\"content\").text\n",
    "    sentiment = node.find(\"sentiment\").find(\"polarity\").find(\"value\").text\n",
    "    if sentiment == \"N\":\n",
    "        sentiment = \"NEG\"\n",
    "    elif sentiment == \"P\":\n",
    "        sentiment = \"POS\"\n",
    "    else:\n",
    "        sentiment = \"NEU\"\n",
    "    row = {\"text\":tweet, \"sentiment\": sentiment}\n",
    "    rows.append(row)\n",
    "    "
   ]
  },
  {
   "cell_type": "code",
   "execution_count": 13,
   "id": "c2085724-1730-40ee-a1e3-7c0cfad06ca2",
   "metadata": {
    "id": "c2085724-1730-40ee-a1e3-7c0cfad06ca2"
   },
   "outputs": [],
   "source": [
    "training_tweets = pd.DataFrame(rows)"
   ]
  },
  {
   "cell_type": "markdown",
   "id": "NEcVhHIsuVem",
   "metadata": {
    "id": "NEcVhHIsuVem"
   },
   "source": [
    "This other dataset comes labeled by multiple people with various adjectives. Since we only care about the sentiment, we assign the sentiment which most people voted for."
   ]
  },
  {
   "cell_type": "code",
   "execution_count": 14,
   "id": "19cb605c-cfa3-42a5-985a-868ee85270d1",
   "metadata": {
    "id": "19cb605c-cfa3-42a5-985a-868ee85270d1"
   },
   "outputs": [],
   "source": [
    "mas_corpus_all = pd.read_excel(os.path.join(training_data_dir, \"mascorpus.xls\"), sheet_name=\"FINAL\", header=1)\n",
    "keep_cols = ['TEXTO', 'ODIO', 'TRISTEZA', 'TEMOR',\n",
    "       'INSATISFACCION', 'NC2.2', 'SATISFACCION', 'CONFIANZA', 'FELICIDAD',\n",
    "       'AMOR', 'ODIO.1', 'TRISTEZA.1', 'TEMOR.1', 'INSATISFACCION.1', 'NC2.3',\n",
    "       'SATISFACCION.1', 'CONFIANZA.1', 'FELICIDAD.1', 'AMOR.1', 'ODIO.2',\n",
    "       'TRISTEZA.2', 'TEMOR.2', 'INSATISFACCION.2', 'NC2.4', 'SATISFACCION.2',\n",
    "       'CONFIANZA.2', 'FELICIDAD.2', 'AMOR.2']\n",
    "mas_corpus = mas_corpus_all[keep_cols]"
   ]
  },
  {
   "cell_type": "code",
   "execution_count": 15,
   "id": "4868dc81-8b5a-4eb4-8356-f2663df75fba",
   "metadata": {
    "id": "4868dc81-8b5a-4eb4-8356-f2663df75fba"
   },
   "outputs": [],
   "source": [
    "mas_corpus_summarized = mas_corpus.copy()\n",
    "for i in range(1, 10):\n",
    "    col_nums = range(i, i+19, 9)\n",
    "    columns = mas_corpus_summarized[[mas_corpus_summarized.columns[i] for i in col_nums]]\n",
    "    mas_corpus_summarized.iloc[:,i] = columns.sum(axis=1)\n",
    "\n",
    "mas_corpus_summarized = mas_corpus_summarized.iloc[:, :10]"
   ]
  },
  {
   "cell_type": "code",
   "execution_count": 16,
   "id": "62b4652f-ed4f-401a-b85a-f62d990daf58",
   "metadata": {
    "colab": {
     "base_uri": "https://localhost:8080/",
     "height": 419
    },
    "id": "62b4652f-ed4f-401a-b85a-f62d990daf58",
    "outputId": "c627a464-da4c-49ab-c4ff-a6d60b791123"
   },
   "outputs": [
    {
     "data": {
      "text/html": [
       "<div>\n",
       "<style scoped>\n",
       "    .dataframe tbody tr th:only-of-type {\n",
       "        vertical-align: middle;\n",
       "    }\n",
       "\n",
       "    .dataframe tbody tr th {\n",
       "        vertical-align: top;\n",
       "    }\n",
       "\n",
       "    .dataframe thead th {\n",
       "        text-align: right;\n",
       "    }\n",
       "</style>\n",
       "<table border=\"1\" class=\"dataframe\">\n",
       "  <thead>\n",
       "    <tr style=\"text-align: right;\">\n",
       "      <th></th>\n",
       "      <th>TEXTO</th>\n",
       "      <th>POS</th>\n",
       "      <th>NEU</th>\n",
       "      <th>NEG</th>\n",
       "    </tr>\n",
       "  </thead>\n",
       "  <tbody>\n",
       "    <tr>\n",
       "      <th>0</th>\n",
       "      <td>#tablondeanuncios Funda nordica ikea #madrid h...</td>\n",
       "      <td>0.0</td>\n",
       "      <td>1</td>\n",
       "      <td>0</td>\n",
       "    </tr>\n",
       "    <tr>\n",
       "      <th>1</th>\n",
       "      <td>#tr Me ofrezco para montar muebles de Ikea - H...</td>\n",
       "      <td>0.0</td>\n",
       "      <td>1</td>\n",
       "      <td>0</td>\n",
       "    </tr>\n",
       "    <tr>\n",
       "      <th>2</th>\n",
       "      <td>#VozPópuli Vozpópuli @voz_populi - #LoMásLeido...</td>\n",
       "      <td>0.0</td>\n",
       "      <td>1</td>\n",
       "      <td>0</td>\n",
       "    </tr>\n",
       "    <tr>\n",
       "      <th>3</th>\n",
       "      <td>#ZonaTecno Destacado: Todo lo que hay que sabe...</td>\n",
       "      <td>0.0</td>\n",
       "      <td>1</td>\n",
       "      <td>0</td>\n",
       "    </tr>\n",
       "    <tr>\n",
       "      <th>4</th>\n",
       "      <td>$Carrefour retira pez #Panga. OCU y grupos x #...</td>\n",
       "      <td>0.0</td>\n",
       "      <td>1</td>\n",
       "      <td>0</td>\n",
       "    </tr>\n",
       "    <tr>\n",
       "      <th>...</th>\n",
       "      <td>...</td>\n",
       "      <td>...</td>\n",
       "      <td>...</td>\n",
       "      <td>...</td>\n",
       "    </tr>\n",
       "    <tr>\n",
       "      <th>3758</th>\n",
       "      <td>#or Me ofrezco para montar muebles de Ikea - H...</td>\n",
       "      <td>0.0</td>\n",
       "      <td>1</td>\n",
       "      <td>0</td>\n",
       "    </tr>\n",
       "    <tr>\n",
       "      <th>3759</th>\n",
       "      <td>#Policiales || Crimen en el Carrefour: las cám...</td>\n",
       "      <td>0.0</td>\n",
       "      <td>1</td>\n",
       "      <td>0</td>\n",
       "    </tr>\n",
       "    <tr>\n",
       "      <th>3760</th>\n",
       "      <td>#PrayFor @nestorpower que se ha quedado sin la...</td>\n",
       "      <td>1.0</td>\n",
       "      <td>0</td>\n",
       "      <td>0</td>\n",
       "    </tr>\n",
       "    <tr>\n",
       "      <th>3761</th>\n",
       "      <td>#rv Me ofrezco para montar muebles de Ikea - H...</td>\n",
       "      <td>0.0</td>\n",
       "      <td>1</td>\n",
       "      <td>0</td>\n",
       "    </tr>\n",
       "    <tr>\n",
       "      <th>3762</th>\n",
       "      <td>#sl Me ofrezco para montar muebles de Ikea - H...</td>\n",
       "      <td>0.0</td>\n",
       "      <td>1</td>\n",
       "      <td>0</td>\n",
       "    </tr>\n",
       "  </tbody>\n",
       "</table>\n",
       "<p>3763 rows × 4 columns</p>\n",
       "</div>"
      ],
      "text/plain": [
       "                                                  TEXTO  POS  NEU  NEG\n",
       "0     #tablondeanuncios Funda nordica ikea #madrid h...  0.0    1    0\n",
       "1     #tr Me ofrezco para montar muebles de Ikea - H...  0.0    1    0\n",
       "2     #VozPópuli Vozpópuli @voz_populi - #LoMásLeido...  0.0    1    0\n",
       "3     #ZonaTecno Destacado: Todo lo que hay que sabe...  0.0    1    0\n",
       "4     $Carrefour retira pez #Panga. OCU y grupos x #...  0.0    1    0\n",
       "...                                                 ...  ...  ...  ...\n",
       "3758  #or Me ofrezco para montar muebles de Ikea - H...  0.0    1    0\n",
       "3759  #Policiales || Crimen en el Carrefour: las cám...  0.0    1    0\n",
       "3760  #PrayFor @nestorpower que se ha quedado sin la...  1.0    0    0\n",
       "3761  #rv Me ofrezco para montar muebles de Ikea - H...  0.0    1    0\n",
       "3762  #sl Me ofrezco para montar muebles de Ikea - H...  0.0    1    0\n",
       "\n",
       "[3763 rows x 4 columns]"
      ]
     },
     "execution_count": 16,
     "metadata": {},
     "output_type": "execute_result"
    }
   ],
   "source": [
    "mas_corpus_collapsed = mas_corpus_summarized.copy()\n",
    "mas_corpus_collapsed[\"POS\"] = mas_corpus_collapsed[[\"SATISFACCION\", \"CONFIANZA\", \"FELICIDAD\", \"AMOR\"]].sum(axis=1)\n",
    "mas_corpus_collapsed[\"NEG\"] = mas_corpus_collapsed[[\"ODIO\", \"TRISTEZA\", \"TEMOR\", \"INSATISFACCION\"]].sum(axis=1)\n",
    "mas_corpus_collapsed[\"NEU\"] = mas_corpus_collapsed[[\"NC2.2\"]]\n",
    "mas_corpus_collapsed = mas_corpus_collapsed[[\"TEXTO\", \"POS\", \"NEU\", \"NEG\"]]\n",
    "mas_corpus_collapsed"
   ]
  },
  {
   "cell_type": "code",
   "execution_count": 17,
   "id": "99c58994-f0f5-4eec-ab91-928fa829b0b6",
   "metadata": {
    "colab": {
     "base_uri": "https://localhost:8080/"
    },
    "id": "99c58994-f0f5-4eec-ab91-928fa829b0b6",
    "outputId": "09f66f68-4772-4fe7-c700-b7b1db56bb0b"
   },
   "outputs": [
    {
     "data": {
      "text/plain": [
       "NEU    2426\n",
       "POS     743\n",
       "NEG     594\n",
       "Name: sentiment, dtype: int64"
      ]
     },
     "execution_count": 17,
     "metadata": {},
     "output_type": "execute_result"
    }
   ],
   "source": [
    "mas_corpus_collapsed[\"sentiment\"]=np.where(\n",
    "    np.logical_and((mas_corpus_collapsed[\"POS\"] > mas_corpus_collapsed [\"NEU\"]),  (mas_corpus_collapsed[\"POS\"] > mas_corpus_collapsed [\"NEG\"])), \"POS\",\n",
    "    np.where(np.logical_and((mas_corpus_collapsed[\"NEU\"] > mas_corpus_collapsed [\"POS\"]),  (mas_corpus_collapsed[\"NEU\"] > mas_corpus_collapsed [\"NEG\"])), \"NEU\", \"NEG\"\n",
    "    )\n",
    ")\n",
    "mas_corpus_collapsed[\"sentiment\"].value_counts()"
   ]
  },
  {
   "cell_type": "code",
   "execution_count": 18,
   "id": "69ee5584-6d90-45fb-9264-622abb11016d",
   "metadata": {
    "id": "69ee5584-6d90-45fb-9264-622abb11016d"
   },
   "outputs": [],
   "source": [
    "mas_corpus_final = mas_corpus_collapsed[[\"TEXTO\", \"sentiment\"]].rename(columns={\"TEXTO\":\"text\"})"
   ]
  },
  {
   "cell_type": "code",
   "execution_count": 19,
   "id": "6f0b3461-4316-4440-ae4d-79f3504ab6c0",
   "metadata": {
    "id": "6f0b3461-4316-4440-ae4d-79f3504ab6c0"
   },
   "outputs": [],
   "source": [
    "training_tweets = pd.concat([mas_corpus_final, training_tweets], ignore_index=True)"
   ]
  },
  {
   "cell_type": "code",
   "execution_count": 20,
   "id": "3fh7kfYnG5e_",
   "metadata": {
    "colab": {
     "base_uri": "https://localhost:8080/",
     "height": 419
    },
    "id": "3fh7kfYnG5e_",
    "outputId": "343ab6bc-2833-4c39-9c60-25ead4f37572"
   },
   "outputs": [
    {
     "data": {
      "text/html": [
       "<div>\n",
       "<style scoped>\n",
       "    .dataframe tbody tr th:only-of-type {\n",
       "        vertical-align: middle;\n",
       "    }\n",
       "\n",
       "    .dataframe tbody tr th {\n",
       "        vertical-align: top;\n",
       "    }\n",
       "\n",
       "    .dataframe thead th {\n",
       "        text-align: right;\n",
       "    }\n",
       "</style>\n",
       "<table border=\"1\" class=\"dataframe\">\n",
       "  <thead>\n",
       "    <tr style=\"text-align: right;\">\n",
       "      <th></th>\n",
       "      <th>text</th>\n",
       "      <th>sentiment</th>\n",
       "    </tr>\n",
       "  </thead>\n",
       "  <tbody>\n",
       "    <tr>\n",
       "      <th>0</th>\n",
       "      <td>#tablondeanuncios Funda nordica ikea #madrid h...</td>\n",
       "      <td>NEU</td>\n",
       "    </tr>\n",
       "    <tr>\n",
       "      <th>1</th>\n",
       "      <td>#tr Me ofrezco para montar muebles de Ikea - H...</td>\n",
       "      <td>NEU</td>\n",
       "    </tr>\n",
       "    <tr>\n",
       "      <th>2</th>\n",
       "      <td>#VozPópuli Vozpópuli @voz_populi - #LoMásLeido...</td>\n",
       "      <td>NEU</td>\n",
       "    </tr>\n",
       "    <tr>\n",
       "      <th>3</th>\n",
       "      <td>#ZonaTecno Destacado: Todo lo que hay que sabe...</td>\n",
       "      <td>NEU</td>\n",
       "    </tr>\n",
       "    <tr>\n",
       "      <th>4</th>\n",
       "      <td>$Carrefour retira pez #Panga. OCU y grupos x #...</td>\n",
       "      <td>NEU</td>\n",
       "    </tr>\n",
       "    <tr>\n",
       "      <th>...</th>\n",
       "      <td>...</td>\n",
       "      <td>...</td>\n",
       "    </tr>\n",
       "    <tr>\n",
       "      <th>77495</th>\n",
       "      <td>@Davorias Pero es que está muy rica</td>\n",
       "      <td>POS</td>\n",
       "    </tr>\n",
       "    <tr>\n",
       "      <th>77496</th>\n",
       "      <td>@narvalillo Eso es antiguo ya</td>\n",
       "      <td>NEG</td>\n",
       "    </tr>\n",
       "    <tr>\n",
       "      <th>77497</th>\n",
       "      <td>Mi TL esta vacía a estas horas</td>\n",
       "      <td>NEG</td>\n",
       "    </tr>\n",
       "    <tr>\n",
       "      <th>77498</th>\n",
       "      <td>Ya tengo uno, pero ese es más cheto  @aweamasome.</td>\n",
       "      <td>NEU</td>\n",
       "    </tr>\n",
       "    <tr>\n",
       "      <th>77499</th>\n",
       "      <td>Estoy sensible y lloro por todo y</td>\n",
       "      <td>NEG</td>\n",
       "    </tr>\n",
       "  </tbody>\n",
       "</table>\n",
       "<p>77500 rows × 2 columns</p>\n",
       "</div>"
      ],
      "text/plain": [
       "                                                    text sentiment\n",
       "0      #tablondeanuncios Funda nordica ikea #madrid h...       NEU\n",
       "1      #tr Me ofrezco para montar muebles de Ikea - H...       NEU\n",
       "2      #VozPópuli Vozpópuli @voz_populi - #LoMásLeido...       NEU\n",
       "3      #ZonaTecno Destacado: Todo lo que hay que sabe...       NEU\n",
       "4      $Carrefour retira pez #Panga. OCU y grupos x #...       NEU\n",
       "...                                                  ...       ...\n",
       "77495               @Davorias Pero es que está muy rica        POS\n",
       "77496                     @narvalillo Eso es antiguo ya        NEG\n",
       "77497                    Mi TL esta vacía a estas horas        NEG\n",
       "77498  Ya tengo uno, pero ese es más cheto  @aweamasome.       NEU\n",
       "77499                 Estoy sensible y lloro por todo y        NEG\n",
       "\n",
       "[77500 rows x 2 columns]"
      ]
     },
     "execution_count": 20,
     "metadata": {},
     "output_type": "execute_result"
    }
   ],
   "source": [
    "training_tweets"
   ]
  },
  {
   "cell_type": "code",
   "execution_count": 21,
   "id": "0685e008-6f86-4fd9-a2a1-48d06ab6d77a",
   "metadata": {
    "id": "0685e008-6f86-4fd9-a2a1-48d06ab6d77a"
   },
   "outputs": [],
   "source": [
    "training_tweets.to_csv(os.path.join(training_data_dir, \"training_tweets.csv\"))"
   ]
  },
  {
   "cell_type": "markdown",
   "id": "CayS52me0Mlm",
   "metadata": {
    "id": "CayS52me0Mlm"
   },
   "source": [
    "## Import and join election tweets"
   ]
  },
  {
   "cell_type": "code",
   "execution_count": 22,
   "id": "a2e131d6-189e-4759-ac56-fc5b0e136080",
   "metadata": {
    "id": "a2e131d6-189e-4759-ac56-fc5b0e136080"
   },
   "outputs": [],
   "source": [
    "training_df = pd.read_csv(os.path.join(training_data_dir, \"training_tweets.csv\")).iloc[:, 1:]"
   ]
  },
  {
   "cell_type": "code",
   "execution_count": 23,
   "id": "f3eb4853-d9f1-4901-94ed-a7373f05f3ce",
   "metadata": {
    "colab": {
     "base_uri": "https://localhost:8080/",
     "height": 419
    },
    "id": "f3eb4853-d9f1-4901-94ed-a7373f05f3ce",
    "outputId": "8d43fa6e-3375-4cc4-ca9f-811f43d82a51"
   },
   "outputs": [
    {
     "data": {
      "text/html": [
       "<div>\n",
       "<style scoped>\n",
       "    .dataframe tbody tr th:only-of-type {\n",
       "        vertical-align: middle;\n",
       "    }\n",
       "\n",
       "    .dataframe tbody tr th {\n",
       "        vertical-align: top;\n",
       "    }\n",
       "\n",
       "    .dataframe thead th {\n",
       "        text-align: right;\n",
       "    }\n",
       "</style>\n",
       "<table border=\"1\" class=\"dataframe\">\n",
       "  <thead>\n",
       "    <tr style=\"text-align: right;\">\n",
       "      <th></th>\n",
       "      <th>text</th>\n",
       "      <th>sentiment</th>\n",
       "    </tr>\n",
       "  </thead>\n",
       "  <tbody>\n",
       "    <tr>\n",
       "      <th>0</th>\n",
       "      <td>#tablondeanuncios Funda nordica ikea #madrid h...</td>\n",
       "      <td>NEU</td>\n",
       "    </tr>\n",
       "    <tr>\n",
       "      <th>1</th>\n",
       "      <td>#tr Me ofrezco para montar muebles de Ikea - H...</td>\n",
       "      <td>NEU</td>\n",
       "    </tr>\n",
       "    <tr>\n",
       "      <th>2</th>\n",
       "      <td>#VozPópuli Vozpópuli @voz_populi - #LoMásLeido...</td>\n",
       "      <td>NEU</td>\n",
       "    </tr>\n",
       "    <tr>\n",
       "      <th>3</th>\n",
       "      <td>#ZonaTecno Destacado: Todo lo que hay que sabe...</td>\n",
       "      <td>NEU</td>\n",
       "    </tr>\n",
       "    <tr>\n",
       "      <th>4</th>\n",
       "      <td>$Carrefour retira pez #Panga. OCU y grupos x #...</td>\n",
       "      <td>NEU</td>\n",
       "    </tr>\n",
       "    <tr>\n",
       "      <th>...</th>\n",
       "      <td>...</td>\n",
       "      <td>...</td>\n",
       "    </tr>\n",
       "    <tr>\n",
       "      <th>77495</th>\n",
       "      <td>@Davorias Pero es que está muy rica</td>\n",
       "      <td>POS</td>\n",
       "    </tr>\n",
       "    <tr>\n",
       "      <th>77496</th>\n",
       "      <td>@narvalillo Eso es antiguo ya</td>\n",
       "      <td>NEG</td>\n",
       "    </tr>\n",
       "    <tr>\n",
       "      <th>77497</th>\n",
       "      <td>Mi TL esta vacía a estas horas</td>\n",
       "      <td>NEG</td>\n",
       "    </tr>\n",
       "    <tr>\n",
       "      <th>77498</th>\n",
       "      <td>Ya tengo uno, pero ese es más cheto  @aweamasome.</td>\n",
       "      <td>NEU</td>\n",
       "    </tr>\n",
       "    <tr>\n",
       "      <th>77499</th>\n",
       "      <td>Estoy sensible y lloro por todo y</td>\n",
       "      <td>NEG</td>\n",
       "    </tr>\n",
       "  </tbody>\n",
       "</table>\n",
       "<p>77500 rows × 2 columns</p>\n",
       "</div>"
      ],
      "text/plain": [
       "                                                    text sentiment\n",
       "0      #tablondeanuncios Funda nordica ikea #madrid h...       NEU\n",
       "1      #tr Me ofrezco para montar muebles de Ikea - H...       NEU\n",
       "2      #VozPópuli Vozpópuli @voz_populi - #LoMásLeido...       NEU\n",
       "3      #ZonaTecno Destacado: Todo lo que hay que sabe...       NEU\n",
       "4      $Carrefour retira pez #Panga. OCU y grupos x #...       NEU\n",
       "...                                                  ...       ...\n",
       "77495               @Davorias Pero es que está muy rica        POS\n",
       "77496                     @narvalillo Eso es antiguo ya        NEG\n",
       "77497                    Mi TL esta vacía a estas horas        NEG\n",
       "77498  Ya tengo uno, pero ese es más cheto  @aweamasome.       NEU\n",
       "77499                 Estoy sensible y lloro por todo y        NEG\n",
       "\n",
       "[77500 rows x 2 columns]"
      ]
     },
     "execution_count": 23,
     "metadata": {},
     "output_type": "execute_result"
    }
   ],
   "source": [
    "training_df"
   ]
  },
  {
   "cell_type": "markdown",
   "id": "wJQERwNPuySH",
   "metadata": {
    "id": "wJQERwNPuySH"
   },
   "source": [
    "Our tweets dataset was saved as 5 separate csv files which we import and concatenate here."
   ]
  },
  {
   "cell_type": "code",
   "execution_count": 25,
   "id": "732790c8-03da-49d9-bd61-e5e7a86d90e7",
   "metadata": {},
   "outputs": [],
   "source": [
    "election_tweets = pd.read_json(os.path.join(data_dir, hashtag_analyzed + \".json\"))"
   ]
  },
  {
   "cell_type": "code",
   "execution_count": 26,
   "id": "N-g5MuSvG9pR",
   "metadata": {
    "colab": {
     "base_uri": "https://localhost:8080/",
     "height": 779
    },
    "id": "N-g5MuSvG9pR",
    "outputId": "3a08d0e7-3c70-4a1e-832c-fccd9b7cf687"
   },
   "outputs": [
    {
     "data": {
      "text/html": [
       "<div>\n",
       "<style scoped>\n",
       "    .dataframe tbody tr th:only-of-type {\n",
       "        vertical-align: middle;\n",
       "    }\n",
       "\n",
       "    .dataframe tbody tr th {\n",
       "        vertical-align: top;\n",
       "    }\n",
       "\n",
       "    .dataframe thead th {\n",
       "        text-align: right;\n",
       "    }\n",
       "</style>\n",
       "<table border=\"1\" class=\"dataframe\">\n",
       "  <thead>\n",
       "    <tr style=\"text-align: right;\">\n",
       "      <th></th>\n",
       "      <th>name</th>\n",
       "      <th>tweet</th>\n",
       "      <th>retweets</th>\n",
       "      <th>created</th>\n",
       "      <th>followers</th>\n",
       "      <th>is_user_verified</th>\n",
       "      <th>favorite_count</th>\n",
       "      <th>favorited</th>\n",
       "      <th>retweeted</th>\n",
       "    </tr>\n",
       "  </thead>\n",
       "  <tbody>\n",
       "    <tr>\n",
       "      <th>0</th>\n",
       "      <td>Jhernandogarcia</td>\n",
       "      <td>Lo de las amenazas al gobierno progresista de ...</td>\n",
       "      <td>1</td>\n",
       "      <td>04/27/2021, 15:32:49</td>\n",
       "      <td>1912</td>\n",
       "      <td>False</td>\n",
       "      <td>1</td>\n",
       "      <td>False</td>\n",
       "      <td>False</td>\n",
       "    </tr>\n",
       "    <tr>\n",
       "      <th>1</th>\n",
       "      <td>Apis2576</td>\n",
       "      <td>#Iglesias y #Redondo pactaron reventar la camp...</td>\n",
       "      <td>1</td>\n",
       "      <td>04/27/2021, 14:46:43</td>\n",
       "      <td>2132</td>\n",
       "      <td>False</td>\n",
       "      <td>0</td>\n",
       "      <td>False</td>\n",
       "      <td>False</td>\n",
       "    </tr>\n",
       "    <tr>\n",
       "      <th>2</th>\n",
       "      <td>GoyoLafarge</td>\n",
       "      <td>Si llego a mil seguidores antes de las elecion...</td>\n",
       "      <td>1</td>\n",
       "      <td>04/27/2021, 12:59:12</td>\n",
       "      <td>645</td>\n",
       "      <td>False</td>\n",
       "      <td>0</td>\n",
       "      <td>False</td>\n",
       "      <td>False</td>\n",
       "    </tr>\n",
       "    <tr>\n",
       "      <th>3</th>\n",
       "      <td>adsuara</td>\n",
       "      <td>Aparezco (mi cuenta de Twitter) en el Grafo de...</td>\n",
       "      <td>4</td>\n",
       "      <td>04/27/2021, 11:01:38</td>\n",
       "      <td>23970</td>\n",
       "      <td>False</td>\n",
       "      <td>35</td>\n",
       "      <td>False</td>\n",
       "      <td>False</td>\n",
       "    </tr>\n",
       "    <tr>\n",
       "      <th>4</th>\n",
       "      <td>roscullell</td>\n",
       "      <td>@EMesembria @Monica_Garcia_G Es anestesista y ...</td>\n",
       "      <td>0</td>\n",
       "      <td>04/27/2021, 10:26:38</td>\n",
       "      <td>7312</td>\n",
       "      <td>False</td>\n",
       "      <td>1</td>\n",
       "      <td>False</td>\n",
       "      <td>False</td>\n",
       "    </tr>\n",
       "    <tr>\n",
       "      <th>...</th>\n",
       "      <td>...</td>\n",
       "      <td>...</td>\n",
       "      <td>...</td>\n",
       "      <td>...</td>\n",
       "      <td>...</td>\n",
       "      <td>...</td>\n",
       "      <td>...</td>\n",
       "      <td>...</td>\n",
       "      <td>...</td>\n",
       "    </tr>\n",
       "    <tr>\n",
       "      <th>39538</th>\n",
       "      <td>maestra3000</td>\n",
       "      <td>@Macarena_Olona #novotesalquetebote la tropa y...</td>\n",
       "      <td>6</td>\n",
       "      <td>04/20/2021, 14:01:35</td>\n",
       "      <td>504</td>\n",
       "      <td>False</td>\n",
       "      <td>6</td>\n",
       "      <td>False</td>\n",
       "      <td>False</td>\n",
       "    </tr>\n",
       "    <tr>\n",
       "      <th>39539</th>\n",
       "      <td>akyyo</td>\n",
       "      <td>Te están llamando gallina @IdiazAyuso \\n#Debat...</td>\n",
       "      <td>0</td>\n",
       "      <td>04/20/2021, 13:57:21</td>\n",
       "      <td>111</td>\n",
       "      <td>False</td>\n",
       "      <td>0</td>\n",
       "      <td>False</td>\n",
       "      <td>False</td>\n",
       "    </tr>\n",
       "    <tr>\n",
       "      <th>39540</th>\n",
       "      <td>telemadrid</td>\n",
       "      <td>A continuación os contamos todos los preparati...</td>\n",
       "      <td>2</td>\n",
       "      <td>04/20/2021, 10:09:04</td>\n",
       "      <td>115845</td>\n",
       "      <td>True</td>\n",
       "      <td>0</td>\n",
       "      <td>False</td>\n",
       "      <td>False</td>\n",
       "    </tr>\n",
       "    <tr>\n",
       "      <th>39541</th>\n",
       "      <td>FeSorCam</td>\n",
       "      <td>#DebateTelemadrid día 21, tras el Telenoticias...</td>\n",
       "      <td>2</td>\n",
       "      <td>04/20/2021, 08:57:53</td>\n",
       "      <td>2377</td>\n",
       "      <td>False</td>\n",
       "      <td>4</td>\n",
       "      <td>False</td>\n",
       "      <td>False</td>\n",
       "    </tr>\n",
       "    <tr>\n",
       "      <th>39542</th>\n",
       "      <td>telemadrid</td>\n",
       "      <td>El debate de Telemadrid será clave para 600.00...</td>\n",
       "      <td>2</td>\n",
       "      <td>04/20/2021, 05:21:03</td>\n",
       "      <td>115845</td>\n",
       "      <td>True</td>\n",
       "      <td>7</td>\n",
       "      <td>False</td>\n",
       "      <td>False</td>\n",
       "    </tr>\n",
       "  </tbody>\n",
       "</table>\n",
       "<p>39543 rows × 9 columns</p>\n",
       "</div>"
      ],
      "text/plain": [
       "                  name                                              tweet  \\\n",
       "0      Jhernandogarcia  Lo de las amenazas al gobierno progresista de ...   \n",
       "1             Apis2576  #Iglesias y #Redondo pactaron reventar la camp...   \n",
       "2          GoyoLafarge  Si llego a mil seguidores antes de las elecion...   \n",
       "3              adsuara  Aparezco (mi cuenta de Twitter) en el Grafo de...   \n",
       "4           roscullell  @EMesembria @Monica_Garcia_G Es anestesista y ...   \n",
       "...                ...                                                ...   \n",
       "39538      maestra3000  @Macarena_Olona #novotesalquetebote la tropa y...   \n",
       "39539            akyyo  Te están llamando gallina @IdiazAyuso \\n#Debat...   \n",
       "39540       telemadrid  A continuación os contamos todos los preparati...   \n",
       "39541         FeSorCam  #DebateTelemadrid día 21, tras el Telenoticias...   \n",
       "39542       telemadrid  El debate de Telemadrid será clave para 600.00...   \n",
       "\n",
       "       retweets               created  followers  is_user_verified  \\\n",
       "0             1  04/27/2021, 15:32:49       1912             False   \n",
       "1             1  04/27/2021, 14:46:43       2132             False   \n",
       "2             1  04/27/2021, 12:59:12        645             False   \n",
       "3             4  04/27/2021, 11:01:38      23970             False   \n",
       "4             0  04/27/2021, 10:26:38       7312             False   \n",
       "...         ...                   ...        ...               ...   \n",
       "39538         6  04/20/2021, 14:01:35        504             False   \n",
       "39539         0  04/20/2021, 13:57:21        111             False   \n",
       "39540         2  04/20/2021, 10:09:04     115845              True   \n",
       "39541         2  04/20/2021, 08:57:53       2377             False   \n",
       "39542         2  04/20/2021, 05:21:03     115845              True   \n",
       "\n",
       "       favorite_count  favorited  retweeted  \n",
       "0                   1      False      False  \n",
       "1                   0      False      False  \n",
       "2                   0      False      False  \n",
       "3                  35      False      False  \n",
       "4                   1      False      False  \n",
       "...               ...        ...        ...  \n",
       "39538               6      False      False  \n",
       "39539               0      False      False  \n",
       "39540               0      False      False  \n",
       "39541               4      False      False  \n",
       "39542               7      False      False  \n",
       "\n",
       "[39543 rows x 9 columns]"
      ]
     },
     "execution_count": 26,
     "metadata": {},
     "output_type": "execute_result"
    }
   ],
   "source": [
    "\n",
    "election_tweets"
   ]
  },
  {
   "cell_type": "markdown",
   "id": "yZJ1huhou-6L",
   "metadata": {
    "id": "yZJ1huhou-6L"
   },
   "source": [
    "We replace newline characters (\\\\n), non-letters and urls with spaces, and replace any length of jajaja, hahaha, jejeje with a single \"jajaja\"."
   ]
  },
  {
   "cell_type": "code",
   "execution_count": 29,
   "id": "Uib9QZcPIX6r",
   "metadata": {
    "colab": {
     "base_uri": "https://localhost:8080/"
    },
    "id": "Uib9QZcPIX6r",
    "outputId": "17e6f5e3-f336-48f0-f972-3b90981e0c62"
   },
   "outputs": [
    {
     "name": "stdout",
     "output_type": "stream",
     "text": [
      "Word statistics files not found!\n",
      "Downloading... done!\n",
      "Unpacking... done!\n",
      "Reading twitter - 1grams ...\n",
      "generating cache file for faster loading...\n",
      "reading ngrams /Users/inigo/.ekphrasis/stats/twitter/counts_1grams.txt\n",
      "You can't omit/backoff and unpack hashtags!\n",
      " unpack_hashtags will be set to False\n"
     ]
    }
   ],
   "source": [
    "text_processor = TextPreProcessor(\n",
    "    # terms that will be normalized\n",
    "    normalize=['url', 'email', 'percent', 'money', 'phone', 'user',\n",
    "        'time', 'date', 'number', 'hashtag'],\n",
    "    # terms that will be annotated\n",
    "    annotate={\"hashtag\", \"allcaps\", \"elongated\", \"repeated\",\n",
    "        'emphasis', 'censored'},\n",
    "    fix_html=True,  # fix HTML tokens\n",
    "    tokenizer=SocialTokenizer(lowercase=True).tokenize,\n",
    "    # corpus from which the word statistics are going to be used \n",
    "    # for word segmentation \n",
    "    segmenter=\"twitter\", \n",
    "    \n",
    "    # corpus from which the word statistics are going to be used \n",
    "    # for spell correction\n",
    "    corrector=\"twitter\", \n",
    "    \n",
    "    unpack_hashtags=False,  # perform word segmentation on hashtags\n",
    "    unpack_contractions=False,  # Unpack contractions (can't -> can not)\n",
    "    spell_correct_elong=False,  # spell correction for elongated words\n",
    "    \n",
    "    # select a tokenizer. You can use SocialTokenizer, or pass your own\n",
    "    # the tokenizer, should take as input a string and return a list of tokens\n",
    "    # list of dictionaries, for replacing tokens extracted from the text,\n",
    "    # with other expressions. You can pass more than one dictionaries.\n",
    "    dicts=[emoticons]\n",
    ")\n"
   ]
  },
  {
   "cell_type": "code",
   "execution_count": 30,
   "id": "M9S7GaCNPkLy",
   "metadata": {
    "id": "M9S7GaCNPkLy"
   },
   "outputs": [],
   "source": [
    "def process_text(raw_text):\n",
    "    no_emojis = emoji.demojize(str(raw_text), delimiters=(\"<\", \">\"))\n",
    "    no_newlines = re.sub(\"\\\\n\", \" \", no_emojis)\n",
    "    social_processed = \" \".join(text_processor.pre_process_doc(no_newlines))\n",
    "    letters_only = re.sub(\"([HhJj][A-zÀ-ú]){2,}[HhJj]*\", \"jajaja\", str(social_processed))\n",
    "    words = letters_only.lower().split()\n",
    "    return (\" \".join(words))"
   ]
  },
  {
   "cell_type": "code",
   "execution_count": 31,
   "id": "1mJSy-EHP3og",
   "metadata": {
    "id": "1mJSy-EHP3og"
   },
   "outputs": [],
   "source": [
    "training_df['clean_text'] = training_df['text'].apply(lambda x: process_text(x))"
   ]
  },
  {
   "cell_type": "code",
   "execution_count": 32,
   "id": "-SmtgZzXO_xE",
   "metadata": {
    "colab": {
     "base_uri": "https://localhost:8080/",
     "height": 1000
    },
    "id": "-SmtgZzXO_xE",
    "outputId": "94f14389-58b3-466b-924d-4579513aede4"
   },
   "outputs": [
    {
     "data": {
      "text/html": [
       "<div>\n",
       "<style scoped>\n",
       "    .dataframe tbody tr th:only-of-type {\n",
       "        vertical-align: middle;\n",
       "    }\n",
       "\n",
       "    .dataframe tbody tr th {\n",
       "        vertical-align: top;\n",
       "    }\n",
       "\n",
       "    .dataframe thead th {\n",
       "        text-align: right;\n",
       "    }\n",
       "</style>\n",
       "<table border=\"1\" class=\"dataframe\">\n",
       "  <thead>\n",
       "    <tr style=\"text-align: right;\">\n",
       "      <th></th>\n",
       "      <th>text</th>\n",
       "      <th>sentiment</th>\n",
       "      <th>clean_text</th>\n",
       "    </tr>\n",
       "  </thead>\n",
       "  <tbody>\n",
       "    <tr>\n",
       "      <th>0</th>\n",
       "      <td>#tablondeanuncios Funda nordica ikea #madrid h...</td>\n",
       "      <td>NEU</td>\n",
       "      <td>&lt;hashtag&gt; funda nordica ikea &lt;hashtag&gt; &lt;url&gt; &lt;...</td>\n",
       "    </tr>\n",
       "    <tr>\n",
       "      <th>1</th>\n",
       "      <td>#tr Me ofrezco para montar muebles de Ikea - H...</td>\n",
       "      <td>NEU</td>\n",
       "      <td>&lt;hashtag&gt; me ofrezco para montar muebles de ik...</td>\n",
       "    </tr>\n",
       "    <tr>\n",
       "      <th>2</th>\n",
       "      <td>#VozPópuli Vozpópuli @voz_populi - #LoMásLeido...</td>\n",
       "      <td>NEU</td>\n",
       "      <td>&lt;hashtag&gt; vozpópuli &lt;user&gt; - &lt;hashtag&gt; mercado...</td>\n",
       "    </tr>\n",
       "    <tr>\n",
       "      <th>3</th>\n",
       "      <td>#ZonaTecno Destacado: Todo lo que hay que sabe...</td>\n",
       "      <td>NEU</td>\n",
       "      <td>&lt;hashtag&gt; destacado : todo lo que hay que sabe...</td>\n",
       "    </tr>\n",
       "    <tr>\n",
       "      <th>4</th>\n",
       "      <td>$Carrefour retira pez #Panga. OCU y grupos x #...</td>\n",
       "      <td>NEU</td>\n",
       "      <td>$ carrefour retira pez &lt;hashtag&gt; . ocu y grupo...</td>\n",
       "    </tr>\n",
       "    <tr>\n",
       "      <th>...</th>\n",
       "      <td>...</td>\n",
       "      <td>...</td>\n",
       "      <td>...</td>\n",
       "    </tr>\n",
       "    <tr>\n",
       "      <th>77495</th>\n",
       "      <td>@Davorias Pero es que está muy rica</td>\n",
       "      <td>POS</td>\n",
       "      <td>&lt;user&gt; pero es que está muy rica</td>\n",
       "    </tr>\n",
       "    <tr>\n",
       "      <th>77496</th>\n",
       "      <td>@narvalillo Eso es antiguo ya</td>\n",
       "      <td>NEG</td>\n",
       "      <td>&lt;user&gt; eso es antiguo ya</td>\n",
       "    </tr>\n",
       "    <tr>\n",
       "      <th>77497</th>\n",
       "      <td>Mi TL esta vacía a estas horas</td>\n",
       "      <td>NEG</td>\n",
       "      <td>mi tl esta vacía a estas horas</td>\n",
       "    </tr>\n",
       "    <tr>\n",
       "      <th>77498</th>\n",
       "      <td>Ya tengo uno, pero ese es más cheto  @aweamasome.</td>\n",
       "      <td>NEU</td>\n",
       "      <td>ya tengo uno , pero ese es más cheto &lt;user&gt; .</td>\n",
       "    </tr>\n",
       "    <tr>\n",
       "      <th>77499</th>\n",
       "      <td>Estoy sensible y lloro por todo y</td>\n",
       "      <td>NEG</td>\n",
       "      <td>estoy sensible y lloro por todo y</td>\n",
       "    </tr>\n",
       "  </tbody>\n",
       "</table>\n",
       "<p>77500 rows × 3 columns</p>\n",
       "</div>"
      ],
      "text/plain": [
       "                                                    text sentiment  \\\n",
       "0      #tablondeanuncios Funda nordica ikea #madrid h...       NEU   \n",
       "1      #tr Me ofrezco para montar muebles de Ikea - H...       NEU   \n",
       "2      #VozPópuli Vozpópuli @voz_populi - #LoMásLeido...       NEU   \n",
       "3      #ZonaTecno Destacado: Todo lo que hay que sabe...       NEU   \n",
       "4      $Carrefour retira pez #Panga. OCU y grupos x #...       NEU   \n",
       "...                                                  ...       ...   \n",
       "77495               @Davorias Pero es que está muy rica        POS   \n",
       "77496                     @narvalillo Eso es antiguo ya        NEG   \n",
       "77497                    Mi TL esta vacía a estas horas        NEG   \n",
       "77498  Ya tengo uno, pero ese es más cheto  @aweamasome.       NEU   \n",
       "77499                 Estoy sensible y lloro por todo y        NEG   \n",
       "\n",
       "                                              clean_text  \n",
       "0      <hashtag> funda nordica ikea <hashtag> <url> <...  \n",
       "1      <hashtag> me ofrezco para montar muebles de ik...  \n",
       "2      <hashtag> vozpópuli <user> - <hashtag> mercado...  \n",
       "3      <hashtag> destacado : todo lo que hay que sabe...  \n",
       "4      $ carrefour retira pez <hashtag> . ocu y grupo...  \n",
       "...                                                  ...  \n",
       "77495                   <user> pero es que está muy rica  \n",
       "77496                           <user> eso es antiguo ya  \n",
       "77497                     mi tl esta vacía a estas horas  \n",
       "77498      ya tengo uno , pero ese es más cheto <user> .  \n",
       "77499                  estoy sensible y lloro por todo y  \n",
       "\n",
       "[77500 rows x 3 columns]"
      ]
     },
     "execution_count": 32,
     "metadata": {},
     "output_type": "execute_result"
    }
   ],
   "source": [
    "training_df"
   ]
  },
  {
   "cell_type": "code",
   "execution_count": 33,
   "id": "D5A1aBHayKEW",
   "metadata": {
    "id": "D5A1aBHayKEW"
   },
   "outputs": [],
   "source": [
    "election_tweets['clean_text'] = election_tweets['tweet'].apply(lambda x: process_text(x))"
   ]
  },
  {
   "cell_type": "code",
   "execution_count": 34,
   "id": "wvI0DiGGyVHd",
   "metadata": {
    "colab": {
     "base_uri": "https://localhost:8080/",
     "height": 589
    },
    "id": "wvI0DiGGyVHd",
    "outputId": "8d202dfd-5687-4da9-aa79-709d8d0982d1"
   },
   "outputs": [
    {
     "data": {
      "text/html": [
       "<div>\n",
       "<style scoped>\n",
       "    .dataframe tbody tr th:only-of-type {\n",
       "        vertical-align: middle;\n",
       "    }\n",
       "\n",
       "    .dataframe tbody tr th {\n",
       "        vertical-align: top;\n",
       "    }\n",
       "\n",
       "    .dataframe thead th {\n",
       "        text-align: right;\n",
       "    }\n",
       "</style>\n",
       "<table border=\"1\" class=\"dataframe\">\n",
       "  <thead>\n",
       "    <tr style=\"text-align: right;\">\n",
       "      <th></th>\n",
       "      <th>tweet</th>\n",
       "      <th>clean_text</th>\n",
       "    </tr>\n",
       "  </thead>\n",
       "  <tbody>\n",
       "    <tr>\n",
       "      <th>0</th>\n",
       "      <td>Lo de las amenazas al gobierno progresista de ...</td>\n",
       "      <td>lo de las amenazas al gobierno progresista de ...</td>\n",
       "    </tr>\n",
       "    <tr>\n",
       "      <th>1</th>\n",
       "      <td>#Iglesias y #Redondo pactaron reventar la camp...</td>\n",
       "      <td>&lt;hashtag&gt; y &lt;hashtag&gt; pactaron reventar la cam...</td>\n",
       "    </tr>\n",
       "    <tr>\n",
       "      <th>2</th>\n",
       "      <td>Si llego a mil seguidores antes de las elecion...</td>\n",
       "      <td>si llego a mil seguidores antes de las elecion...</td>\n",
       "    </tr>\n",
       "    <tr>\n",
       "      <th>3</th>\n",
       "      <td>Aparezco (mi cuenta de Twitter) en el Grafo de...</td>\n",
       "      <td>aparezco ( mi cuenta de twitter ) en el grafo ...</td>\n",
       "    </tr>\n",
       "    <tr>\n",
       "      <th>4</th>\n",
       "      <td>@EMesembria @Monica_Garcia_G Es anestesista y ...</td>\n",
       "      <td>&lt;user&gt; &lt;user&gt; es anestesista y tiene dos jajaj...</td>\n",
       "    </tr>\n",
       "    <tr>\n",
       "      <th>...</th>\n",
       "      <td>...</td>\n",
       "      <td>...</td>\n",
       "    </tr>\n",
       "    <tr>\n",
       "      <th>39538</th>\n",
       "      <td>@Macarena_Olona #novotesalquetebote la tropa y...</td>\n",
       "      <td>&lt;user&gt; &lt;hashtag&gt; la tropa y marinería votamos ...</td>\n",
       "    </tr>\n",
       "    <tr>\n",
       "      <th>39539</th>\n",
       "      <td>Te están llamando gallina @IdiazAyuso \\n#Debat...</td>\n",
       "      <td>te están llamando gallina &lt;user&gt; &lt;hashtag&gt; &lt;ha...</td>\n",
       "    </tr>\n",
       "    <tr>\n",
       "      <th>39540</th>\n",
       "      <td>A continuación os contamos todos los preparati...</td>\n",
       "      <td>a continuación os contamos todos los preparati...</td>\n",
       "    </tr>\n",
       "    <tr>\n",
       "      <th>39541</th>\n",
       "      <td>#DebateTelemadrid día 21, tras el Telenoticias...</td>\n",
       "      <td>&lt;hashtag&gt; día &lt;number&gt; , tras el telenoticias ...</td>\n",
       "    </tr>\n",
       "    <tr>\n",
       "      <th>39542</th>\n",
       "      <td>El debate de Telemadrid será clave para 600.00...</td>\n",
       "      <td>el debate de telemadrid será clave para &lt;numbe...</td>\n",
       "    </tr>\n",
       "  </tbody>\n",
       "</table>\n",
       "<p>39543 rows × 2 columns</p>\n",
       "</div>"
      ],
      "text/plain": [
       "                                                   tweet  \\\n",
       "0      Lo de las amenazas al gobierno progresista de ...   \n",
       "1      #Iglesias y #Redondo pactaron reventar la camp...   \n",
       "2      Si llego a mil seguidores antes de las elecion...   \n",
       "3      Aparezco (mi cuenta de Twitter) en el Grafo de...   \n",
       "4      @EMesembria @Monica_Garcia_G Es anestesista y ...   \n",
       "...                                                  ...   \n",
       "39538  @Macarena_Olona #novotesalquetebote la tropa y...   \n",
       "39539  Te están llamando gallina @IdiazAyuso \\n#Debat...   \n",
       "39540  A continuación os contamos todos los preparati...   \n",
       "39541  #DebateTelemadrid día 21, tras el Telenoticias...   \n",
       "39542  El debate de Telemadrid será clave para 600.00...   \n",
       "\n",
       "                                              clean_text  \n",
       "0      lo de las amenazas al gobierno progresista de ...  \n",
       "1      <hashtag> y <hashtag> pactaron reventar la cam...  \n",
       "2      si llego a mil seguidores antes de las elecion...  \n",
       "3      aparezco ( mi cuenta de twitter ) en el grafo ...  \n",
       "4      <user> <user> es anestesista y tiene dos jajaj...  \n",
       "...                                                  ...  \n",
       "39538  <user> <hashtag> la tropa y marinería votamos ...  \n",
       "39539  te están llamando gallina <user> <hashtag> <ha...  \n",
       "39540  a continuación os contamos todos los preparati...  \n",
       "39541  <hashtag> día <number> , tras el telenoticias ...  \n",
       "39542  el debate de telemadrid será clave para <numbe...  \n",
       "\n",
       "[39543 rows x 2 columns]"
      ]
     },
     "execution_count": 34,
     "metadata": {},
     "output_type": "execute_result"
    }
   ],
   "source": [
    "election_tweets[[\"tweet\", \"clean_text\"]]"
   ]
  },
  {
   "cell_type": "markdown",
   "id": "y1eDIXv60-yl",
   "metadata": {
    "id": "y1eDIXv60-yl"
   },
   "source": [
    "## Prepare data for training"
   ]
  },
  {
   "cell_type": "markdown",
   "id": "sUSoZFXuwh4r",
   "metadata": {
    "id": "sUSoZFXuwh4r"
   },
   "source": [
    "We prepare the data for training:\n",
    "We split the labeled data into train and test, making sure to stratify by the labels to ensure a similar distribution of labels between test and train."
   ]
  },
  {
   "cell_type": "code",
   "execution_count": 35,
   "id": "948ff7e4-64cf-49e8-9cc9-0c312405d741",
   "metadata": {
    "id": "948ff7e4-64cf-49e8-9cc9-0c312405d741"
   },
   "outputs": [],
   "source": [
    "texts = training_df[\"clean_text\"].fillna(\"fillna\").values\n",
    "labels = training_df[\"sentiment\"].values\n",
    "x_train, x_test, y_train, y_test = train_test_split(texts, labels, test_size=0.1, random_state=42, stratify=labels)\n",
    "x_pred =  election_tweets[\"clean_text\"].fillna(\"fillna\").values\n"
   ]
  },
  {
   "cell_type": "markdown",
   "id": "WUQur0rCwq8E",
   "metadata": {
    "id": "WUQur0rCwq8E"
   },
   "source": [
    "We download a huggingface model pre-trained on the spanish Wikipedia corpus: https://huggingface.co/dccuchile/bert-base-spanish-wwm-uncased#:~:text=dccuchile%2Fbert%2Dbase%2Dspanish,%2Dwwm%2Duncased%20%C2%B7%20Hugging%20Face"
   ]
  },
  {
   "cell_type": "code",
   "execution_count": 36,
   "id": "8fcSRf6BXln3",
   "metadata": {
    "colab": {
     "base_uri": "https://localhost:8080/"
    },
    "id": "8fcSRf6BXln3",
    "outputId": "367dcc39-4471-43e2-969f-f493b285116c"
   },
   "outputs": [
    {
     "name": "stderr",
     "output_type": "stream",
     "text": [
      "/Users/inigo/miniconda3/envs/nlp-test/lib/python3.6/site-packages/ktrain/text/preprocessor.py:423: UserWarning: The method preprocess_train was never called. You can disable this warning by setting preprocess_train_called=True.\n",
      "  warnings.warn('The method preprocess_train was never called. You can disable this warning by setting preprocess_train_called=True.')\n"
     ]
    }
   ],
   "source": [
    "t = text.Transformer(\"dccuchile/bert-base-spanish-wwm-uncased\", class_names=list(set(labels)))\n",
    "model = t.get_classifier()"
   ]
  },
  {
   "cell_type": "markdown",
   "id": "VwxMjh5uywbk",
   "metadata": {
    "id": "VwxMjh5uywbk"
   },
   "source": [
    "We preprocess the data to get it into the format BERT expects: padded and with special characters at the beginning and end."
   ]
  },
  {
   "cell_type": "code",
   "execution_count": 37,
   "id": "f672ede5-3b30-4b52-acb0-1ed7620b149b",
   "metadata": {
    "colab": {
     "base_uri": "https://localhost:8080/",
     "height": 394
    },
    "id": "f672ede5-3b30-4b52-acb0-1ed7620b149b",
    "outputId": "3f6576a4-d2cb-4fa0-d597-e8ed37d7d1ac"
   },
   "outputs": [
    {
     "name": "stdout",
     "output_type": "stream",
     "text": [
      "preprocessing train...\n",
      "language: es\n",
      "train sequence lengths:\n",
      "\tmean : 20\n",
      "\t95percentile : 31\n",
      "\t99percentile : 34\n"
     ]
    },
    {
     "name": "stderr",
     "output_type": "stream",
     "text": [
      "/Users/inigo/miniconda3/envs/nlp-test/lib/python3.6/site-packages/ktrain/utils.py:589: UserWarning: class_names argument was ignored, as they were extracted from string labels in dataset\n",
      "  if self.get_classes(): warnings.warn('class_names argument was ignored, as they were extracted from string labels in dataset')\n"
     ]
    },
    {
     "data": {
      "text/html": [],
      "text/plain": [
       "<IPython.core.display.HTML object>"
      ]
     },
     "metadata": {},
     "output_type": "display_data"
    },
    {
     "name": "stderr",
     "output_type": "stream",
     "text": [
      "Exception ignored in: <bound method tqdm.__del__ of <tqdm.auto.tqdm object at 0x7f860c83a2e8>>\n",
      "Traceback (most recent call last):\n",
      "  File \"/Users/inigo/miniconda3/envs/nlp-test/lib/python3.6/site-packages/tqdm/std.py\", line 1145, in __del__\n",
      "    self.close()\n",
      "  File \"/Users/inigo/miniconda3/envs/nlp-test/lib/python3.6/site-packages/tqdm/notebook.py\", line 283, in close\n",
      "    self.disp(bar_style='danger', check_delay=False)\n",
      "AttributeError: 'tqdm' object has no attribute 'disp'\n"
     ]
    },
    {
     "name": "stdout",
     "output_type": "stream",
     "text": [
      "Is Multi-Label? False\n",
      "preprocessing test...\n",
      "language: es\n",
      "test sequence lengths:\n",
      "\tmean : 20\n",
      "\t95percentile : 31\n",
      "\t99percentile : 35\n"
     ]
    },
    {
     "data": {
      "text/html": [],
      "text/plain": [
       "<IPython.core.display.HTML object>"
      ]
     },
     "metadata": {},
     "output_type": "display_data"
    },
    {
     "name": "stdout",
     "output_type": "stream",
     "text": [
      "preprocessing test...\n",
      "language: es\n",
      "test sequence lengths:\n",
      "\tmean : 24\n",
      "\t95percentile : 49\n",
      "\t99percentile : 56\n"
     ]
    },
    {
     "data": {
      "text/html": [],
      "text/plain": [
       "<IPython.core.display.HTML object>"
      ]
     },
     "metadata": {},
     "output_type": "display_data"
    }
   ],
   "source": [
    "trn = t.preprocess_train(x_train, y_train)\n",
    "val = t.preprocess_test(x_test, y_test)\n",
    "pred = t.preprocess_test(x_pred)"
   ]
  },
  {
   "cell_type": "markdown",
   "id": "R5zunEcV_TcO",
   "metadata": {
    "id": "R5zunEcV_TcO"
   },
   "source": [
    "# Model Training"
   ]
  },
  {
   "cell_type": "markdown",
   "id": "GiCsgL815mK7",
   "metadata": {
    "id": "GiCsgL815mK7"
   },
   "source": [
    "If not re-training model skip to next section (Prediction)"
   ]
  },
  {
   "cell_type": "code",
   "execution_count": null,
   "id": "6ec0fed7-8776-4373-8af0-d15dc771641c",
   "metadata": {
    "id": "6ec0fed7-8776-4373-8af0-d15dc771641c"
   },
   "outputs": [],
   "source": [
    "learner = ktrain.get_learner(model, train_data=trn, val_data=val, batch_size=32)"
   ]
  },
  {
   "cell_type": "markdown",
   "id": "7rQK8j1Pw5Iz",
   "metadata": {
    "id": "7rQK8j1Pw5Iz"
   },
   "source": [
    "We select a learning rate halfway down the steepest part of the loss-curve slope."
   ]
  },
  {
   "cell_type": "code",
   "execution_count": null,
   "id": "jPfcF8l6OQq2",
   "metadata": {
    "colab": {
     "base_uri": "https://localhost:8080/",
     "height": 402
    },
    "id": "jPfcF8l6OQq2",
    "outputId": "6ca5e377-c2b5-4036-b2c5-b835968934a0"
   },
   "outputs": [
    {
     "name": "stdout",
     "output_type": "stream",
     "text": [
      "simulating training for different learning rates... this may take a few moments...\n",
      "Epoch 1/1024\n",
      "2137/2137 [==============================] - 372s 163ms/step - loss: 2.4783 - accuracy: 0.4493\n",
      "\n",
      "\n",
      "done.\n",
      "Visually inspect loss plot and select learning rate associated with falling loss\n"
     ]
    },
    {
     "data": {
      "image/png": "[encoded data removed]",
      "text/plain": [
       "<Figure size 432x288 with 1 Axes>"
      ]
     },
     "metadata": {
      "needs_background": "light",
      "tags": []
     },
     "output_type": "display_data"
    }
   ],
   "source": [
    "learner.lr_find(show_plot=True)"
   ]
  },
  {
   "cell_type": "code",
   "execution_count": null,
   "id": "OMcVKlaUlW3N",
   "metadata": {
    "colab": {
     "base_uri": "https://localhost:8080/"
    },
    "id": "OMcVKlaUlW3N",
    "outputId": "88450f17-5da1-4d81-e461-a6cc26b173a8"
   },
   "outputs": [
    {
     "name": "stdout",
     "output_type": "stream",
     "text": [
      "early_stopping automatically enabled at patience=5\n",
      "reduce_on_plateau automatically enabled at patience=2\n",
      "\n",
      "\n",
      "begin training using triangular learning rate policy with max lr of 5e-05...\n",
      "Epoch 1/1024\n",
      "2180/2180 [==============================] - 1773s 802ms/step - loss: 0.7521 - accuracy: 0.6559 - val_loss: 0.5712 - val_accuracy: 0.7533\n",
      "Epoch 2/1024\n",
      "2180/2180 [==============================] - 1764s 803ms/step - loss: 0.5060 - accuracy: 0.7898 - val_loss: 0.5611 - val_accuracy: 0.7605\n",
      "Epoch 3/1024\n",
      "2180/2180 [==============================] - 1764s 803ms/step - loss: 0.3832 - accuracy: 0.8477 - val_loss: 0.6103 - val_accuracy: 0.7609\n",
      "Epoch 4/1024\n",
      "2180/2180 [==============================] - 1765s 803ms/step - loss: 0.2594 - accuracy: 0.9032 - val_loss: 0.6941 - val_accuracy: 0.7546\n",
      "\n",
      "Epoch 00004: Reducing Max LR on Plateau: new max lr will be 2.5e-05 (if not early_stopping).\n",
      "Epoch 5/1024\n",
      "2180/2180 [==============================] - 1764s 803ms/step - loss: 0.1566 - accuracy: 0.9455 - val_loss: 0.8576 - val_accuracy: 0.7507\n",
      "Epoch 6/1024\n",
      "2180/2180 [==============================] - 1764s 803ms/step - loss: 0.1009 - accuracy: 0.9655 - val_loss: 0.9858 - val_accuracy: 0.7486\n",
      "\n",
      "Epoch 00006: Reducing Max LR on Plateau: new max lr will be 1.25e-05 (if not early_stopping).\n",
      "Epoch 7/1024\n",
      " 498/2180 [=====>........................] - ETA: 21:40 - loss: 0.0599 - accuracy: 0.9819"
     ]
    }
   ],
   "source": [
    "learner.autofit(5e-5, checkpoint_folder=\"model_checkpoints\")"
   ]
  },
  {
   "cell_type": "markdown",
   "id": "4UfPGnTuCjvy",
   "metadata": {
    "id": "4UfPGnTuCjvy"
   },
   "source": [
    "Although training accuracy increased to 97%, validation accuracy remained at 74%, indicating the network was overfitting in further epochs."
   ]
  },
  {
   "cell_type": "code",
   "execution_count": null,
   "id": "0MQGArj1mJVV",
   "metadata": {
    "id": "0MQGArj1mJVV"
   },
   "outputs": [],
   "source": [
    "learner.model.save_pretrained(\"saved_model\")"
   ]
  },
  {
   "cell_type": "markdown",
   "id": "HFd4cPfzCx89",
   "metadata": {
    "id": "HFd4cPfzCx89"
   },
   "source": [
    "Since Colab limits the use of GPUs and we can suddenly be disconnected from the runtime we make sure to save the network's weights when we are done training it."
   ]
  },
  {
   "cell_type": "markdown",
   "id": "3OzCXSiz5jA_",
   "metadata": {
    "id": "3OzCXSiz5jA_"
   },
   "source": [
    "# Predictions"
   ]
  },
  {
   "cell_type": "markdown",
   "id": "D00zBPL3DGUz",
   "metadata": {
    "id": "D00zBPL3DGUz"
   },
   "source": [
    "We can use this line of code to import the transformer we saved above."
   ]
  },
  {
   "cell_type": "code",
   "execution_count": 38,
   "id": "d2TxI6QSzqL2",
   "metadata": {
    "id": "d2TxI6QSzqL2"
   },
   "outputs": [],
   "source": [
    "t=text.Transformer(\"saved_model\", class_names=list(set(labels)))"
   ]
  },
  {
   "cell_type": "code",
   "execution_count": 39,
   "id": "QxLOGsPM6NOj",
   "metadata": {
    "colab": {
     "base_uri": "https://localhost:8080/"
    },
    "id": "QxLOGsPM6NOj",
    "outputId": "e06cddff-d4b1-4a99-98bb-dee8f5f967f5"
   },
   "outputs": [],
   "source": [
    "model = t.get_classifier()"
   ]
  },
  {
   "cell_type": "code",
   "execution_count": null,
   "id": "mIfPvcF0zqL4",
   "metadata": {
    "id": "mIfPvcF0zqL4"
   },
   "outputs": [],
   "source": [
    "learner = ktrain.get_learner(model, train_data=trn, val_data=val, batch_size=8)"
   ]
  },
  {
   "cell_type": "code",
   "execution_count": null,
   "id": "MPuRBMgp4OiY",
   "metadata": {
    "id": "MPuRBMgp4OiY"
   },
   "outputs": [],
   "source": [
    "predictions = learner.predict(val_data=pred)"
   ]
  },
  {
   "cell_type": "code",
   "execution_count": null,
   "id": "iYPy_9riMWm2",
   "metadata": {
    "colab": {
     "base_uri": "https://localhost:8080/"
    },
    "id": "iYPy_9riMWm2",
    "outputId": "b65e3899-28d8-4ea1-db67-43f124bd6bb6"
   },
   "outputs": [
    {
     "data": {
      "text/plain": [
       "array([[0.62190163, 0.28655723, 0.09154113],\n",
       "       [0.81316984, 0.1755967 , 0.01123353],\n",
       "       [0.01346189, 0.07407705, 0.9124611 ],\n",
       "       ...,\n",
       "       [0.00968208, 0.8043853 , 0.18593256],\n",
       "       [0.01846363, 0.12628841, 0.855248  ],\n",
       "       [0.01757779, 0.910417  , 0.07200523]], dtype=float32)"
      ]
     },
     "execution_count": 45,
     "metadata": {
      "tags": []
     },
     "output_type": "execute_result"
    }
   ],
   "source": [
    "predictions"
   ]
  },
  {
   "cell_type": "markdown",
   "id": "LtZeQdFFE0x4",
   "metadata": {
    "id": "LtZeQdFFE0x4"
   },
   "source": [
    "The predictions are returned as class probabilities. We assign the class with the largest predicted probability, although depending on our business requirements we might want to require a greater confidence to assign a positive or a negative label."
   ]
  },
  {
   "cell_type": "code",
   "execution_count": null,
   "id": "tVnMPmoW3iap",
   "metadata": {
    "id": "tVnMPmoW3iap"
   },
   "outputs": [],
   "source": [
    "predictions=pd.DataFrame(predictions, columns=list(set(labels)))"
   ]
  },
  {
   "cell_type": "code",
   "execution_count": null,
   "id": "EnFz0h_l7J3h",
   "metadata": {
    "id": "EnFz0h_l7J3h"
   },
   "outputs": [],
   "source": [
    "election_tweets_pred = election_tweets.copy()"
   ]
  },
  {
   "cell_type": "code",
   "execution_count": null,
   "id": "q3v8ebjhNBvj",
   "metadata": {
    "id": "q3v8ebjhNBvj"
   },
   "outputs": [],
   "source": [
    "pd.set_option('display.max_colwidth', None)"
   ]
  },
  {
   "cell_type": "code",
   "execution_count": null,
   "id": "OQTiJy7W80Kj",
   "metadata": {
    "id": "OQTiJy7W80Kj"
   },
   "outputs": [],
   "source": [
    "election_tweets_pred[\"sentiment\"] = np.where(\n",
    "    np.logical_and(predictions[\"NEG\"] > predictions[\"NEU\"], predictions[\"NEG\"] > predictions[\"POS\"]),\n",
    "    \"NEG\", \n",
    "    np.where(\n",
    "        np.logical_and(predictions[\"NEU\"] > predictions[\"NEG\"], predictions[\"NEU\"] > predictions[\"POS\"]),\n",
    "        \"NEU\", \n",
    "        \"POS\")\n",
    "    \n",
    ")"
   ]
  },
  {
   "cell_type": "code",
   "execution_count": null,
   "id": "fFyTXllzCU_d",
   "metadata": {
    "colab": {
     "base_uri": "https://localhost:8080/",
     "height": 720
    },
    "id": "fFyTXllzCU_d",
    "outputId": "e1b161f9-7642-47d2-e4ae-e982869ae6ce"
   },
   "outputs": [
    {
     "data": {
      "text/html": [
       "<div>\n",
       "<style scoped>\n",
       "    .dataframe tbody tr th:only-of-type {\n",
       "        vertical-align: middle;\n",
       "    }\n",
       "\n",
       "    .dataframe tbody tr th {\n",
       "        vertical-align: top;\n",
       "    }\n",
       "\n",
       "    .dataframe thead th {\n",
       "        text-align: right;\n",
       "    }\n",
       "</style>\n",
       "<table border=\"1\" class=\"dataframe\">\n",
       "  <thead>\n",
       "    <tr style=\"text-align: right;\">\n",
       "      <th></th>\n",
       "      <th>tweet</th>\n",
       "      <th>sentiment</th>\n",
       "    </tr>\n",
       "  </thead>\n",
       "  <tbody>\n",
       "    <tr>\n",
       "      <th>14438</th>\n",
       "      <td>Pereza! \\n#DebateTelemadrid</td>\n",
       "      <td>POS</td>\n",
       "    </tr>\n",
       "    <tr>\n",
       "      <th>11397</th>\n",
       "      <td>#DebateTelemadrid el milagro económico es no tener que dar una paguita de 700€ a los autónomos para que puedan malvivir.</td>\n",
       "      <td>NEU</td>\n",
       "    </tr>\n",
       "    <tr>\n",
       "      <th>21665</th>\n",
       "      <td>Ayuso es muy cristiana. Hasta se saltó una Conferencia de Presidentes para ponerse el outfit de beata y ponerse a llorar, curiosamente delante de unas cámaras que pasaban por allí. #DebateTelemadrid</td>\n",
       "      <td>NEG</td>\n",
       "    </tr>\n",
       "    <tr>\n",
       "      <th>28819</th>\n",
       "      <td>Ver al coletas dando lecciones desde su chalet y la gente aun creyendo en el partido demuestra que en este país vale todo 🤣🤣🤣🤣🤣🤣#DebateTelemadrid</td>\n",
       "      <td>NEU</td>\n",
       "    </tr>\n",
       "    <tr>\n",
       "      <th>9042</th>\n",
       "      <td>Jajajajajajaja Iglesias diciendo que hay que dimitir para presentarse a unas elecciones jajaja\\n\\nHabrá que recordarle que él no dimitió, él fue cesado por Sánchez para cobrar la indemnización.\\n\\nJeta es poco.\\n#DebateTelemadrid</td>\n",
       "      <td>NEG</td>\n",
       "    </tr>\n",
       "    <tr>\n",
       "      <th>13168</th>\n",
       "      <td>🔵 La única opción solvente para gobernar la Comunidad de Madrid es Isabel Díaz Ayuso.\\n\\nEstá desmontando uno a uno los mantras y las mentiras de la izquierda.\\n\\n@anacamins\\n \\n#DebateTelemadrid \\n#YoConAyuso https://t.co/hEgrtcycVL</td>\n",
       "      <td>NEG</td>\n",
       "    </tr>\n",
       "    <tr>\n",
       "      <th>22610</th>\n",
       "      <td>#DebateTelemadrid\\nEl candidato de podemos/as/es\\nDiciendo que dentista gratis.\\nYa está pensado en cómo ahorrar dinero</td>\n",
       "      <td>NEU</td>\n",
       "    </tr>\n",
       "    <tr>\n",
       "      <th>9702</th>\n",
       "      <td>Interesante. 👇👇\\n\\n#DebateTelemadrid https://t.co/MDDujZ3fKq</td>\n",
       "      <td>NEU</td>\n",
       "    </tr>\n",
       "    <tr>\n",
       "      <th>21692</th>\n",
       "      <td>Ojo que Gabilondo se anima #DebateTelemadrid https://t.co/3sJjVpUFQ9</td>\n",
       "      <td>NEU</td>\n",
       "    </tr>\n",
       "    <tr>\n",
       "      <th>37760</th>\n",
       "      <td>Ufffff este moderador no me gusta.\\nQue se calle el hombre, dejen hablar a Maria Rey.\\n#DebateTelemadrid</td>\n",
       "      <td>NEG</td>\n",
       "    </tr>\n",
       "    <tr>\n",
       "      <th>4919</th>\n",
       "      <td>Arrasa la izquierda en el debate. Arrasa Ayuso en las elecciones. #DebateTelemadrid</td>\n",
       "      <td>POS</td>\n",
       "    </tr>\n",
       "    <tr>\n",
       "      <th>34631</th>\n",
       "      <td>No cuela no #DebateTelemadrid https://t.co/TaIAzXnh2w</td>\n",
       "      <td>POS</td>\n",
       "    </tr>\n",
       "    <tr>\n",
       "      <th>11476</th>\n",
       "      <td>¿Alguna vez aprenderán los candidatos a cualquier cargo que sea cual sea el debate en el que estén sacar cartelitos con gráficos no sirve absolutamente para nada?\\n#DebateTelemadrid</td>\n",
       "      <td>NEG</td>\n",
       "    </tr>\n",
       "    <tr>\n",
       "      <th>35172</th>\n",
       "      <td>Quién es la dl moño?\\n#DebateTelemadrid</td>\n",
       "      <td>POS</td>\n",
       "    </tr>\n",
       "    <tr>\n",
       "      <th>36057</th>\n",
       "      <td>Mete alguna S más, Monasterio, que aún te cabe.\\nEsta señora parece que hable en parsel.\\n#DebateTelemadrid</td>\n",
       "      <td>POS</td>\n",
       "    </tr>\n",
       "    <tr>\n",
       "      <th>3746</th>\n",
       "      <td>Y qué pintaban Las Grecas en el #DebateTelemadrid ? https://t.co/AhFqClNyoZ</td>\n",
       "      <td>POS</td>\n",
       "    </tr>\n",
       "    <tr>\n",
       "      <th>35557</th>\n",
       "      <td>Que las mentiras sean descubiertas por tod@s. Que seamos capaces de ver quienes mienten y quienes se dedican a trabajar. #QueHableLaMayoria4M\\n#DebateTelemadrid https://t.co/CDUG91eRLv</td>\n",
       "      <td>NEU</td>\n",
       "    </tr>\n",
       "    <tr>\n",
       "      <th>10462</th>\n",
       "      <td>@vox_es salvandole los muebles a @IdiazAyuso después de que quedar tocada con @PabloIglesias #DebateTelemadrid</td>\n",
       "      <td>NEU</td>\n",
       "    </tr>\n",
       "    <tr>\n",
       "      <th>14920</th>\n",
       "      <td>La lapidaria réplica de Iglesias a Monasterio: “Para chiringuito el que le puso Aguirre a Abascal” \\nUna frase que ha dejado sin palabras a la dirigente ultra #DebateTelemadrid\\nvia @El_Plural https://t.co/aSNUX3wcjB</td>\n",
       "      <td>NEG</td>\n",
       "    </tr>\n",
       "    <tr>\n",
       "      <th>251</th>\n",
       "      <td>‼️Sondeo de Metroscopia sobre el #DebateTelemadrid publicado por El País.\\n\\nEl debate lo ha ganado // en suma ha estado mejor ...\\n\\n1. I. D. Ayuso 💧 \\n2. M. García 🌽\\n3. P. Iglesias 🍆\\n4. A. Gabilondo 🌹\\n5. R. Monasterio 🥦\\n6. E. Bal 🍊\\n\\nhttps://t.co/EqNRLwPZK9 https://t.co/HEVffoDVtK</td>\n",
       "      <td>NEU</td>\n",
       "    </tr>\n",
       "  </tbody>\n",
       "</table>\n",
       "</div>"
      ],
      "text/plain": [
       "                                                                                                                                                                                                                                                                                                  tweet sentiment\n",
       "14438                                                                                                                                                                                                                                                                       Pereza! \\n#DebateTelemadrid       POS\n",
       "11397                                                                                                                                                                          #DebateTelemadrid el milagro económico es no tener que dar una paguita de 700€ a los autónomos para que puedan malvivir.       NEU\n",
       "21665                                                                                            Ayuso es muy cristiana. Hasta se saltó una Conferencia de Presidentes para ponerse el outfit de beata y ponerse a llorar, curiosamente delante de unas cámaras que pasaban por allí. #DebateTelemadrid       NEG\n",
       "28819                                                                                                                                                 Ver al coletas dando lecciones desde su chalet y la gente aun creyendo en el partido demuestra que en este país vale todo 🤣🤣🤣🤣🤣🤣#DebateTelemadrid       NEU\n",
       "9042                                                              Jajajajajajaja Iglesias diciendo que hay que dimitir para presentarse a unas elecciones jajaja\\n\\nHabrá que recordarle que él no dimitió, él fue cesado por Sánchez para cobrar la indemnización.\\n\\nJeta es poco.\\n#DebateTelemadrid       NEG\n",
       "13168                                                         🔵 La única opción solvente para gobernar la Comunidad de Madrid es Isabel Díaz Ayuso.\\n\\nEstá desmontando uno a uno los mantras y las mentiras de la izquierda.\\n\\n@anacamins\\n \\n#DebateTelemadrid \\n#YoConAyuso https://t.co/hEgrtcycVL       NEG\n",
       "22610                                                                                                                                                                           #DebateTelemadrid\\nEl candidato de podemos/as/es\\nDiciendo que dentista gratis.\\nYa está pensado en cómo ahorrar dinero       NEU\n",
       "9702                                                                                                                                                                                                                                       Interesante. 👇👇\\n\\n#DebateTelemadrid https://t.co/MDDujZ3fKq       NEU\n",
       "21692                                                                                                                                                                                                                              Ojo que Gabilondo se anima #DebateTelemadrid https://t.co/3sJjVpUFQ9       NEU\n",
       "37760                                                                                                                                                                                          Ufffff este moderador no me gusta.\\nQue se calle el hombre, dejen hablar a Maria Rey.\\n#DebateTelemadrid       NEG\n",
       "4919                                                                                                                                                                                                                Arrasa la izquierda en el debate. Arrasa Ayuso en las elecciones. #DebateTelemadrid       POS\n",
       "34631                                                                                                                                                                                                                                             No cuela no #DebateTelemadrid https://t.co/TaIAzXnh2w       POS\n",
       "11476                                                                                                             ¿Alguna vez aprenderán los candidatos a cualquier cargo que sea cual sea el debate en el que estén sacar cartelitos con gráficos no sirve absolutamente para nada?\\n#DebateTelemadrid       NEG\n",
       "35172                                                                                                                                                                                                                                                           Quién es la dl moño?\\n#DebateTelemadrid       POS\n",
       "36057                                                                                                                                                                                       Mete alguna S más, Monasterio, que aún te cabe.\\nEsta señora parece que hable en parsel.\\n#DebateTelemadrid       POS\n",
       "3746                                                                                                                                                                                                                        Y qué pintaban Las Grecas en el #DebateTelemadrid ? https://t.co/AhFqClNyoZ       POS\n",
       "35557                                                                                                          Que las mentiras sean descubiertas por tod@s. Que seamos capaces de ver quienes mienten y quienes se dedican a trabajar. #QueHableLaMayoria4M\\n#DebateTelemadrid https://t.co/CDUG91eRLv       NEU\n",
       "10462                                                                                                                                                                                    @vox_es salvandole los muebles a @IdiazAyuso después de que quedar tocada con @PabloIglesias #DebateTelemadrid       NEU\n",
       "14920                                                                          La lapidaria réplica de Iglesias a Monasterio: “Para chiringuito el que le puso Aguirre a Abascal” \\nUna frase que ha dejado sin palabras a la dirigente ultra #DebateTelemadrid\\nvia @El_Plural https://t.co/aSNUX3wcjB       NEG\n",
       "251    ‼️Sondeo de Metroscopia sobre el #DebateTelemadrid publicado por El País.\\n\\nEl debate lo ha ganado // en suma ha estado mejor ...\\n\\n1. I. D. Ayuso 💧 \\n2. M. García 🌽\\n3. P. Iglesias 🍆\\n4. A. Gabilondo 🌹\\n5. R. Monasterio 🥦\\n6. E. Bal 🍊\\n\\nhttps://t.co/EqNRLwPZK9 https://t.co/HEVffoDVtK       NEU"
      ]
     },
     "execution_count": 55,
     "metadata": {
      "tags": []
     },
     "output_type": "execute_result"
    }
   ],
   "source": [
    "election_tweets_pred[[\"tweet\",\"sentiment\"]].sample(20)"
   ]
  },
  {
   "cell_type": "code",
   "execution_count": null,
   "id": "jekmWxsH7E-_",
   "metadata": {
    "id": "jekmWxsH7E-_"
   },
   "outputs": [],
   "source": [
    "election_tweets_pred.to_csv(os.path.join(data_dir, \"predictions.csv\"))"
   ]
  },
  {
   "cell_type": "code",
   "execution_count": null,
   "id": "ROyqqv-x4Bum",
   "metadata": {
    "id": "ROyqqv-x4Bum"
   },
   "outputs": [],
   "source": [
    "pd.set_option('display.max_colwidth', 50)"
   ]
  },
  {
   "cell_type": "markdown",
   "id": "v_AeTFAVVun5",
   "metadata": {
    "id": "v_AeTFAVVun5"
   },
   "source": [
    "# Processing"
   ]
  },
  {
   "cell_type": "markdown",
   "id": "--JaVnCQFG0P",
   "metadata": {
    "id": "--JaVnCQFG0P"
   },
   "source": [
    "In this section we extract hashtags and whether each candidate was mentioned in a tweet."
   ]
  },
  {
   "cell_type": "code",
   "execution_count": null,
   "id": "YUXfdnp1OXD4",
   "metadata": {
    "id": "YUXfdnp1OXD4"
   },
   "outputs": [],
   "source": [
    "election_tweets_pred = pd.read_csv(os.path.join(data_dir, \"predictions.csv\"))"
   ]
  },
  {
   "cell_type": "code",
   "execution_count": null,
   "id": "tws7o9sFy58R",
   "metadata": {
    "colab": {
     "base_uri": "https://localhost:8080/"
    },
    "id": "tws7o9sFy58R",
    "outputId": "409ddef5-ebdf-4155-f73d-763bc6e7d3ba"
   },
   "outputs": [
    {
     "data": {
      "text/plain": [
       "0    Lo de las amenazas al gobi...\n",
       "1    #Iglesias y #Redondo pacta...\n",
       "2    Si llego a mil seguidores ...\n",
       "3    Aparezco (mi cuenta de Twi...\n",
       "4    @EMesembria @Monica_Garcia...\n",
       "Name: tweet, dtype: object"
      ]
     },
     "execution_count": 16,
     "metadata": {
      "tags": []
     },
     "output_type": "execute_result"
    }
   ],
   "source": [
    "mystringlist = election_tweets_pred['tweet']\n",
    "mystringlist.head()"
   ]
  },
  {
   "cell_type": "code",
   "execution_count": null,
   "id": "gdhl2qFszEKW",
   "metadata": {
    "colab": {
     "base_uri": "https://localhost:8080/"
    },
    "id": "gdhl2qFszEKW",
    "outputId": "5e7e1aa0-d389-4f59-9876-f6fb6c5e7b17"
   },
   "outputs": [
    {
     "name": "stdout",
     "output_type": "stream",
     "text": [
      "                           0      ...                          39538\n",
      "0  [#DebateTelemadrid, #LosDe...  ...  [#DebateTelemadrid, #elecc...\n",
      "\n",
      "[1 rows x 39539 columns]\n"
     ]
    }
   ],
   "source": [
    "def hashtags(tweet):\n",
    " return list(filter(lambda token: token.startswith('#'), tweet.split()))\n",
    "\n",
    "list_hashtags= [hashtags(string) for string in mystringlist]\n",
    "df_list = pd.DataFrame([list_hashtags])\n",
    "\n",
    "print (df_list)"
   ]
  },
  {
   "cell_type": "code",
   "execution_count": null,
   "id": "qaVk-DVP252-",
   "metadata": {
    "colab": {
     "base_uri": "https://localhost:8080/",
     "height": 204
    },
    "id": "qaVk-DVP252-",
    "outputId": "715e4fa6-7d40-494d-b7a5-319fec2169c1"
   },
   "outputs": [
    {
     "data": {
      "text/html": [
       "<div>\n",
       "<style scoped>\n",
       "    .dataframe tbody tr th:only-of-type {\n",
       "        vertical-align: middle;\n",
       "    }\n",
       "\n",
       "    .dataframe tbody tr th {\n",
       "        vertical-align: top;\n",
       "    }\n",
       "\n",
       "    .dataframe thead th {\n",
       "        text-align: right;\n",
       "    }\n",
       "</style>\n",
       "<table border=\"1\" class=\"dataframe\">\n",
       "  <thead>\n",
       "    <tr style=\"text-align: right;\">\n",
       "      <th></th>\n",
       "      <th>hashtag</th>\n",
       "    </tr>\n",
       "  </thead>\n",
       "  <tbody>\n",
       "    <tr>\n",
       "      <th>0</th>\n",
       "      <td>[#DebateTelemadrid, #LosDe...</td>\n",
       "    </tr>\n",
       "    <tr>\n",
       "      <th>1</th>\n",
       "      <td>[#Iglesias, #Redondo, #Deb...</td>\n",
       "    </tr>\n",
       "    <tr>\n",
       "      <th>2</th>\n",
       "      <td>[#Ayuso, #SiguemeYTeSigo, ...</td>\n",
       "    </tr>\n",
       "    <tr>\n",
       "      <th>3</th>\n",
       "      <td>[#DebateTelemadrid,]</td>\n",
       "    </tr>\n",
       "    <tr>\n",
       "      <th>4</th>\n",
       "      <td>[#DebateTelemadrid]</td>\n",
       "    </tr>\n",
       "  </tbody>\n",
       "</table>\n",
       "</div>"
      ],
      "text/plain": [
       "                         hashtag\n",
       "0  [#DebateTelemadrid, #LosDe...\n",
       "1  [#Iglesias, #Redondo, #Deb...\n",
       "2  [#Ayuso, #SiguemeYTeSigo, ...\n",
       "3           [#DebateTelemadrid,]\n",
       "4            [#DebateTelemadrid]"
      ]
     },
     "execution_count": 18,
     "metadata": {
      "tags": []
     },
     "output_type": "execute_result"
    }
   ],
   "source": [
    "df_list=df_list.T\n",
    "df_list.columns =['hashtag']\n",
    "df_list.head()"
   ]
  },
  {
   "cell_type": "code",
   "execution_count": null,
   "id": "y--DgzI5W-GC",
   "metadata": {
    "colab": {
     "base_uri": "https://localhost:8080/",
     "height": 204
    },
    "id": "y--DgzI5W-GC",
    "outputId": "6b7f264f-a47e-497a-9742-041640715a69"
   },
   "outputs": [
    {
     "data": {
      "text/html": [
       "<div>\n",
       "<style scoped>\n",
       "    .dataframe tbody tr th:only-of-type {\n",
       "        vertical-align: middle;\n",
       "    }\n",
       "\n",
       "    .dataframe tbody tr th {\n",
       "        vertical-align: top;\n",
       "    }\n",
       "\n",
       "    .dataframe thead th {\n",
       "        text-align: right;\n",
       "    }\n",
       "</style>\n",
       "<table border=\"1\" class=\"dataframe\">\n",
       "  <thead>\n",
       "    <tr style=\"text-align: right;\">\n",
       "      <th></th>\n",
       "      <th>hashtag</th>\n",
       "      <th>counted</th>\n",
       "    </tr>\n",
       "  </thead>\n",
       "  <tbody>\n",
       "    <tr>\n",
       "      <th>0</th>\n",
       "      <td>#DebateTelemadrid</td>\n",
       "      <td>1</td>\n",
       "    </tr>\n",
       "    <tr>\n",
       "      <th>0</th>\n",
       "      <td>#LosDemocratasSomosMas</td>\n",
       "      <td>1</td>\n",
       "    </tr>\n",
       "    <tr>\n",
       "      <th>0</th>\n",
       "      <td>#LaIzquierdaGana</td>\n",
       "      <td>1</td>\n",
       "    </tr>\n",
       "    <tr>\n",
       "      <th>1</th>\n",
       "      <td>#Iglesias</td>\n",
       "      <td>1</td>\n",
       "    </tr>\n",
       "    <tr>\n",
       "      <th>1</th>\n",
       "      <td>#Redondo</td>\n",
       "      <td>1</td>\n",
       "    </tr>\n",
       "  </tbody>\n",
       "</table>\n",
       "</div>"
      ],
      "text/plain": [
       "                  hashtag  counted\n",
       "0       #DebateTelemadrid        1\n",
       "0  #LosDemocratasSomosMas        1\n",
       "0        #LaIzquierdaGana        1\n",
       "1               #Iglesias        1\n",
       "1                #Redondo        1"
      ]
     },
     "execution_count": 19,
     "metadata": {
      "tags": []
     },
     "output_type": "execute_result"
    }
   ],
   "source": [
    "exploded_df = df_list.explode('hashtag')\n",
    "exploded_df['counted'] =1\n",
    "exploded_df.head()"
   ]
  },
  {
   "cell_type": "code",
   "execution_count": null,
   "id": "BQ7jL8S6fcwW",
   "metadata": {
    "colab": {
     "base_uri": "https://localhost:8080/",
     "height": 561
    },
    "id": "BQ7jL8S6fcwW",
    "outputId": "89dca325-5b84-4495-f8b2-9a201c1e636c"
   },
   "outputs": [
    {
     "data": {
      "text/html": [
       "<div>\n",
       "<style scoped>\n",
       "    .dataframe tbody tr th:only-of-type {\n",
       "        vertical-align: middle;\n",
       "    }\n",
       "\n",
       "    .dataframe tbody tr th {\n",
       "        vertical-align: top;\n",
       "    }\n",
       "\n",
       "    .dataframe thead th {\n",
       "        text-align: right;\n",
       "    }\n",
       "</style>\n",
       "<table border=\"1\" class=\"dataframe\">\n",
       "  <thead>\n",
       "    <tr style=\"text-align: right;\">\n",
       "      <th></th>\n",
       "      <th>Unnamed: 0</th>\n",
       "      <th>name</th>\n",
       "      <th>tweet</th>\n",
       "      <th>retweets</th>\n",
       "      <th>created</th>\n",
       "      <th>followers</th>\n",
       "      <th>is_user_verified</th>\n",
       "      <th>favorite_count</th>\n",
       "      <th>favorited</th>\n",
       "      <th>retweeted</th>\n",
       "      <th>sa_es</th>\n",
       "      <th>clean_text</th>\n",
       "      <th>sentiment</th>\n",
       "      <th>hashtag</th>\n",
       "      <th>counted</th>\n",
       "    </tr>\n",
       "  </thead>\n",
       "  <tbody>\n",
       "    <tr>\n",
       "      <th>0</th>\n",
       "      <td>0</td>\n",
       "      <td>Jhernandogarcia</td>\n",
       "      <td>Lo de las amenazas al gobierno progresista de ...</td>\n",
       "      <td>1</td>\n",
       "      <td>04/27/2021, 15:32:49</td>\n",
       "      <td>1912</td>\n",
       "      <td>False</td>\n",
       "      <td>1</td>\n",
       "      <td>False</td>\n",
       "      <td>False</td>\n",
       "      <td>NEG</td>\n",
       "      <td>lo de las amenazas al gobierno progresista de ...</td>\n",
       "      <td>NEG</td>\n",
       "      <td>#DebateTelemadrid</td>\n",
       "      <td>1</td>\n",
       "    </tr>\n",
       "    <tr>\n",
       "      <th>0</th>\n",
       "      <td>0</td>\n",
       "      <td>Jhernandogarcia</td>\n",
       "      <td>Lo de las amenazas al gobierno progresista de ...</td>\n",
       "      <td>1</td>\n",
       "      <td>04/27/2021, 15:32:49</td>\n",
       "      <td>1912</td>\n",
       "      <td>False</td>\n",
       "      <td>1</td>\n",
       "      <td>False</td>\n",
       "      <td>False</td>\n",
       "      <td>NEG</td>\n",
       "      <td>lo de las amenazas al gobierno progresista de ...</td>\n",
       "      <td>NEG</td>\n",
       "      <td>#LosDemocratasSomosMas</td>\n",
       "      <td>1</td>\n",
       "    </tr>\n",
       "    <tr>\n",
       "      <th>0</th>\n",
       "      <td>0</td>\n",
       "      <td>Jhernandogarcia</td>\n",
       "      <td>Lo de las amenazas al gobierno progresista de ...</td>\n",
       "      <td>1</td>\n",
       "      <td>04/27/2021, 15:32:49</td>\n",
       "      <td>1912</td>\n",
       "      <td>False</td>\n",
       "      <td>1</td>\n",
       "      <td>False</td>\n",
       "      <td>False</td>\n",
       "      <td>NEG</td>\n",
       "      <td>lo de las amenazas al gobierno progresista de ...</td>\n",
       "      <td>NEG</td>\n",
       "      <td>#LaIzquierdaGana</td>\n",
       "      <td>1</td>\n",
       "    </tr>\n",
       "    <tr>\n",
       "      <th>1</th>\n",
       "      <td>1</td>\n",
       "      <td>Apis2576</td>\n",
       "      <td>#Iglesias y #Redondo pactaron reventar la camp...</td>\n",
       "      <td>1</td>\n",
       "      <td>04/27/2021, 14:46:43</td>\n",
       "      <td>2132</td>\n",
       "      <td>False</td>\n",
       "      <td>0</td>\n",
       "      <td>False</td>\n",
       "      <td>False</td>\n",
       "      <td>NEG</td>\n",
       "      <td>iglesias y redondo pactaron reventar la campañ...</td>\n",
       "      <td>NEG</td>\n",
       "      <td>#Iglesias</td>\n",
       "      <td>1</td>\n",
       "    </tr>\n",
       "    <tr>\n",
       "      <th>1</th>\n",
       "      <td>1</td>\n",
       "      <td>Apis2576</td>\n",
       "      <td>#Iglesias y #Redondo pactaron reventar la camp...</td>\n",
       "      <td>1</td>\n",
       "      <td>04/27/2021, 14:46:43</td>\n",
       "      <td>2132</td>\n",
       "      <td>False</td>\n",
       "      <td>0</td>\n",
       "      <td>False</td>\n",
       "      <td>False</td>\n",
       "      <td>NEG</td>\n",
       "      <td>iglesias y redondo pactaron reventar la campañ...</td>\n",
       "      <td>NEG</td>\n",
       "      <td>#Redondo</td>\n",
       "      <td>1</td>\n",
       "    </tr>\n",
       "  </tbody>\n",
       "</table>\n",
       "</div>"
      ],
      "text/plain": [
       "   Unnamed: 0             name  ...                 hashtag  counted\n",
       "0           0  Jhernandogarcia  ...       #DebateTelemadrid        1\n",
       "0           0  Jhernandogarcia  ...  #LosDemocratasSomosMas        1\n",
       "0           0  Jhernandogarcia  ...        #LaIzquierdaGana        1\n",
       "1           1         Apis2576  ...               #Iglesias        1\n",
       "1           1         Apis2576  ...                #Redondo        1\n",
       "\n",
       "[5 rows x 15 columns]"
      ]
     },
     "execution_count": 24,
     "metadata": {
      "tags": []
     },
     "output_type": "execute_result"
    }
   ],
   "source": [
    "merged_inner = pd.merge(left=election_tweets_pred, right=exploded_df, left_index=True, right_index=True)\n",
    "merged_inner.head()\n"
   ]
  },
  {
   "cell_type": "code",
   "execution_count": null,
   "id": "fA2Bqg5d5V_G",
   "metadata": {
    "id": "fA2Bqg5d5V_G"
   },
   "outputs": [],
   "source": [
    "table = merged_inner.copy()"
   ]
  },
  {
   "cell_type": "markdown",
   "id": "IwAnnn0RFchj",
   "metadata": {
    "id": "IwAnnn0RFchj"
   },
   "source": [
    "We are returning 1 for each candidate's column if one of the terms is found."
   ]
  },
  {
   "cell_type": "code",
   "execution_count": null,
   "id": "MUyLk-kvagzf",
   "metadata": {
    "colab": {
     "base_uri": "https://localhost:8080/",
     "height": 581
    },
    "id": "MUyLk-kvagzf",
    "outputId": "04ec9308-f128-4248-fa04-2590b9687cf7"
   },
   "outputs": [
    {
     "data": {
      "text/html": [
       "<div>\n",
       "<style scoped>\n",
       "    .dataframe tbody tr th:only-of-type {\n",
       "        vertical-align: middle;\n",
       "    }\n",
       "\n",
       "    .dataframe tbody tr th {\n",
       "        vertical-align: top;\n",
       "    }\n",
       "\n",
       "    .dataframe thead th {\n",
       "        text-align: right;\n",
       "    }\n",
       "</style>\n",
       "<table border=\"1\" class=\"dataframe\">\n",
       "  <thead>\n",
       "    <tr style=\"text-align: right;\">\n",
       "      <th></th>\n",
       "      <th>Unnamed: 0</th>\n",
       "      <th>name</th>\n",
       "      <th>tweet</th>\n",
       "      <th>retweets</th>\n",
       "      <th>created</th>\n",
       "      <th>followers</th>\n",
       "      <th>is_user_verified</th>\n",
       "      <th>favorite_count</th>\n",
       "      <th>favorited</th>\n",
       "      <th>retweeted</th>\n",
       "      <th>sa_es</th>\n",
       "      <th>clean_text</th>\n",
       "      <th>sentiment</th>\n",
       "      <th>hashtag</th>\n",
       "      <th>counted</th>\n",
       "      <th>Ayuso</th>\n",
       "      <th>Mónica_García</th>\n",
       "      <th>Ángel_Gabilondo</th>\n",
       "      <th>Pablo_Iglesias</th>\n",
       "      <th>Edmundo_Bal</th>\n",
       "      <th>Rocío_Monasterio</th>\n",
       "    </tr>\n",
       "  </thead>\n",
       "  <tbody>\n",
       "    <tr>\n",
       "      <th>0</th>\n",
       "      <td>0</td>\n",
       "      <td>Jhernandogarcia</td>\n",
       "      <td>Lo de las amenazas al gobierno progresista de ...</td>\n",
       "      <td>1</td>\n",
       "      <td>04/27/2021, 15:32:49</td>\n",
       "      <td>1912</td>\n",
       "      <td>False</td>\n",
       "      <td>1</td>\n",
       "      <td>False</td>\n",
       "      <td>False</td>\n",
       "      <td>NEG</td>\n",
       "      <td>lo de las amenazas al gobierno progresista de ...</td>\n",
       "      <td>NEG</td>\n",
       "      <td>#DebateTelemadrid</td>\n",
       "      <td>1</td>\n",
       "      <td>0</td>\n",
       "      <td>0</td>\n",
       "      <td>1</td>\n",
       "      <td>1</td>\n",
       "      <td>0</td>\n",
       "      <td>0</td>\n",
       "    </tr>\n",
       "    <tr>\n",
       "      <th>0</th>\n",
       "      <td>0</td>\n",
       "      <td>Jhernandogarcia</td>\n",
       "      <td>Lo de las amenazas al gobierno progresista de ...</td>\n",
       "      <td>1</td>\n",
       "      <td>04/27/2021, 15:32:49</td>\n",
       "      <td>1912</td>\n",
       "      <td>False</td>\n",
       "      <td>1</td>\n",
       "      <td>False</td>\n",
       "      <td>False</td>\n",
       "      <td>NEG</td>\n",
       "      <td>lo de las amenazas al gobierno progresista de ...</td>\n",
       "      <td>NEG</td>\n",
       "      <td>#LosDemocratasSomosMas</td>\n",
       "      <td>1</td>\n",
       "      <td>0</td>\n",
       "      <td>0</td>\n",
       "      <td>1</td>\n",
       "      <td>1</td>\n",
       "      <td>0</td>\n",
       "      <td>0</td>\n",
       "    </tr>\n",
       "    <tr>\n",
       "      <th>0</th>\n",
       "      <td>0</td>\n",
       "      <td>Jhernandogarcia</td>\n",
       "      <td>Lo de las amenazas al gobierno progresista de ...</td>\n",
       "      <td>1</td>\n",
       "      <td>04/27/2021, 15:32:49</td>\n",
       "      <td>1912</td>\n",
       "      <td>False</td>\n",
       "      <td>1</td>\n",
       "      <td>False</td>\n",
       "      <td>False</td>\n",
       "      <td>NEG</td>\n",
       "      <td>lo de las amenazas al gobierno progresista de ...</td>\n",
       "      <td>NEG</td>\n",
       "      <td>#LaIzquierdaGana</td>\n",
       "      <td>1</td>\n",
       "      <td>0</td>\n",
       "      <td>0</td>\n",
       "      <td>1</td>\n",
       "      <td>1</td>\n",
       "      <td>0</td>\n",
       "      <td>0</td>\n",
       "    </tr>\n",
       "    <tr>\n",
       "      <th>1</th>\n",
       "      <td>1</td>\n",
       "      <td>Apis2576</td>\n",
       "      <td>#Iglesias y #Redondo pactaron reventar la camp...</td>\n",
       "      <td>1</td>\n",
       "      <td>04/27/2021, 14:46:43</td>\n",
       "      <td>2132</td>\n",
       "      <td>False</td>\n",
       "      <td>0</td>\n",
       "      <td>False</td>\n",
       "      <td>False</td>\n",
       "      <td>NEG</td>\n",
       "      <td>iglesias y redondo pactaron reventar la campañ...</td>\n",
       "      <td>NEG</td>\n",
       "      <td>#Iglesias</td>\n",
       "      <td>1</td>\n",
       "      <td>0</td>\n",
       "      <td>0</td>\n",
       "      <td>0</td>\n",
       "      <td>1</td>\n",
       "      <td>0</td>\n",
       "      <td>0</td>\n",
       "    </tr>\n",
       "    <tr>\n",
       "      <th>1</th>\n",
       "      <td>1</td>\n",
       "      <td>Apis2576</td>\n",
       "      <td>#Iglesias y #Redondo pactaron reventar la camp...</td>\n",
       "      <td>1</td>\n",
       "      <td>04/27/2021, 14:46:43</td>\n",
       "      <td>2132</td>\n",
       "      <td>False</td>\n",
       "      <td>0</td>\n",
       "      <td>False</td>\n",
       "      <td>False</td>\n",
       "      <td>NEG</td>\n",
       "      <td>iglesias y redondo pactaron reventar la campañ...</td>\n",
       "      <td>NEG</td>\n",
       "      <td>#Redondo</td>\n",
       "      <td>1</td>\n",
       "      <td>0</td>\n",
       "      <td>0</td>\n",
       "      <td>0</td>\n",
       "      <td>1</td>\n",
       "      <td>0</td>\n",
       "      <td>0</td>\n",
       "    </tr>\n",
       "  </tbody>\n",
       "</table>\n",
       "</div>"
      ],
      "text/plain": [
       "   Unnamed: 0             name  ... Edmundo_Bal  Rocío_Monasterio\n",
       "0           0  Jhernandogarcia  ...           0                 0\n",
       "0           0  Jhernandogarcia  ...           0                 0\n",
       "0           0  Jhernandogarcia  ...           0                 0\n",
       "1           1         Apis2576  ...           0                 0\n",
       "1           1         Apis2576  ...           0                 0\n",
       "\n",
       "[5 rows x 21 columns]"
      ]
     },
     "execution_count": 28,
     "metadata": {
      "tags": []
     },
     "output_type": "execute_result"
    }
   ],
   "source": [
    "table['Ayuso'] = np.where(table['tweet'].str.contains(('Ayuso|pp|Partido Popular'), case=False), 1,0)\n",
    "table['Mónica_García'] = np.where(table['tweet'].str.contains(('Monica|Mónica|García|Garcia|Más Madrid|Mas Madrid|masmadrid|másmadrid'), case=False), 1,0)\n",
    "table['Ángel_Gabilondo'] = np.where(table['tweet'].str.contains(('Gabilondo|PSOE|Ángel|Angel|partido socialista'), case=False), 1,0)\n",
    "table['Pablo_Iglesias'] = np.where(table['tweet'].str.contains(('Pablo|Iglesias|Unidas Podemos|unidos podemos|Podemos'), case=False), 1,0)\n",
    "table['Edmundo_Bal'] = np.where(table['tweet'].str.contains(('Edmundo Bal|BalEdmundo|CiudadanosCs'), case=False), 1,0)\n",
    "table['Rocío_Monasterio'] = np.where(table['tweet'].str.contains(('Rocío|Rocio|Monasterio|VOX'), case=False), 1,0)\n",
    "\n",
    "\n",
    "\n",
    "table.head()"
   ]
  },
  {
   "cell_type": "code",
   "execution_count": null,
   "id": "FzM5ca3hRlw7",
   "metadata": {
    "id": "FzM5ca3hRlw7"
   },
   "outputs": [],
   "source": [
    "table.drop(\"clean_text\", axis=1).to_excel(\"predictions_and_mentions.xlsx\")"
   ]
  },
  {
   "cell_type": "code",
   "execution_count": 18,
   "id": "9TU3Y6Ze3Eoa",
   "metadata": {
    "id": "9TU3Y6Ze3Eoa"
   },
   "outputs": [],
   "source": [
    "candidate_counts = table.loc[:,\"Ayuso\":].sum(axis=1).value_counts(normalize=True).sort_index()"
   ]
  },
  {
   "cell_type": "code",
   "execution_count": 22,
   "id": "-za1D-3Q2Otc",
   "metadata": {
    "colab": {
     "base_uri": "https://localhost:8080/",
     "height": 279
    },
    "id": "-za1D-3Q2Otc",
    "outputId": "de14d9dc-9754-4a03-8a6c-207be9266944"
   },
   "outputs": [
    {
     "data": {
      "image/png": "[encoded data removed]",
      "text/plain": [
       "<Figure size 432x288 with 1 Axes>"
      ]
     },
     "metadata": {
      "needs_background": "light",
      "tags": []
     },
     "output_type": "display_data"
    }
   ],
   "source": [
    "plt.bar(candidate_counts.index, candidate_counts)\n",
    "plt.xlabel(\"Number of candidates mentioned\")\n",
    "plt.ylabel(\"Proportion\");"
   ]
  },
  {
   "cell_type": "code",
   "execution_count": 25,
   "id": "7eMerDSn2bVS",
   "metadata": {
    "colab": {
     "base_uri": "https://localhost:8080/"
    },
    "id": "7eMerDSn2bVS",
    "outputId": "2d35b71c-1c30-4f26-f469-90bf1078c221"
   },
   "outputs": [
    {
     "data": {
      "text/plain": [
       "0.21709958472437096"
      ]
     },
     "execution_count": 25,
     "metadata": {
      "tags": []
     },
     "output_type": "execute_result"
    }
   ],
   "source": [
    "1-candidate_counts[0:2].sum()"
   ]
  },
  {
   "cell_type": "code",
   "execution_count": null,
   "id": "pCE8aBOO4Hyg",
   "metadata": {
    "id": "pCE8aBOO4Hyg"
   },
   "outputs": [],
   "source": []
  }
 ],
 "metadata": {
  "colab": {
   "collapsed_sections": [],
   "name": "NLP_group_assignment_huggingface_training.ipynb",
   "provenance": [],
   "toc_visible": true
  },
  "kernelspec": {
   "display_name": "Python 3",
   "language": "python",
   "name": "python3"
  },
  "language_info": {
   "codemirror_mode": {
    "name": "ipython",
    "version": 3
   },
   "file_extension": ".py",
   "mimetype": "text/x-python",
   "name": "python",
   "nbconvert_exporter": "python",
   "pygments_lexer": "ipython3",
   "version": "3.6.13"
  }
 },
 "nbformat": 4,
 "nbformat_minor": 5
}
